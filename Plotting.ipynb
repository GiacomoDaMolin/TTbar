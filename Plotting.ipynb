{
 "cells": [
  {
   "cell_type": "code",
   "execution_count": 6,
   "metadata": {},
   "outputs": [],
   "source": [
    "import numpy as np\n",
    "from matplotlib import pyplot as plt\n",
    "\n",
    "from collections import defaultdict\n",
    "import uproot\n",
    "import re\n",
    "from glob import glob"
   ]
  },
  {
   "cell_type": "code",
   "execution_count": 7,
   "metadata": {},
   "outputs": [
    {
     "data": {
      "text/plain": [
       "['./Python_Analysis/output/final_mc/W.root',\n",
       " './Python_Analysis/output/final_mc/Diboson.root',\n",
       " './Python_Analysis/output/final_mc/TTbkgd.root',\n",
       " './Python_Analysis/output/final_mc/TTLLorLTAUL.root',\n",
       " './Python_Analysis/output/final_mc/ST.root',\n",
       " './Python_Analysis/output/final_mc/DY.root']"
      ]
     },
     "execution_count": 7,
     "metadata": {},
     "output_type": "execute_result"
    }
   ],
   "source": [
    "filelist = glob(\"./Python_Analysis/output/final_mc/*.root\")\n",
    "filelist"
   ]
  },
  {
   "cell_type": "code",
   "execution_count": 8,
   "metadata": {},
   "outputs": [
    {
     "data": {
      "text/plain": [
       "['./Python_Analysis/output/final_mc/W.root',\n",
       " './Python_Analysis/output/final_mc/Diboson.root',\n",
       " './Python_Analysis/output/final_mc/TTbkgd.root',\n",
       " './Python_Analysis/output/final_mc/TTLLorLTAUL.root',\n",
       " './Python_Analysis/output/final_mc/ST.root',\n",
       " './Python_Analysis/output/final_mc/DY.root',\n",
       " './Python_Analysis/output/Data.root']"
      ]
     },
     "execution_count": 8,
     "metadata": {},
     "output_type": "execute_result"
    }
   ],
   "source": [
    "data = glob(\"./Python_Analysis/output/Data.root\")\n",
    "filelist.append(data[0])\n",
    "filelist"
   ]
  },
  {
   "cell_type": "code",
   "execution_count": 11,
   "metadata": {},
   "outputs": [],
   "source": [
    "files = {}\n",
    "for file in filelist:\n",
    "    #name = re.findall(r\".*_([A-z]*)\\.root\", file)[0]\n",
    "    name = file.split(\"/\")[-1].split('.')[0]\n",
    "    files[name] = uproot.open(file)\n"
   ]
  },
  {
   "cell_type": "code",
   "execution_count": 12,
   "metadata": {},
   "outputs": [
    {
     "data": {
      "text/plain": [
       "{'W': <ReadOnlyDirectory '/' at 0x7f23e8ddb100>,\n",
       " 'Diboson': <ReadOnlyDirectory '/' at 0x7f23e8ddb4f0>,\n",
       " 'TTbkgd': <ReadOnlyDirectory '/' at 0x7f24503495d0>,\n",
       " 'TTLLorLTAUL': <ReadOnlyDirectory '/' at 0x7f23e8e307f0>,\n",
       " 'ST': <ReadOnlyDirectory '/' at 0x7f23e8e31210>,\n",
       " 'DY': <ReadOnlyDirectory '/' at 0x7f23e8e31cf0>,\n",
       " 'Data': <ReadOnlyDirectory '/' at 0x7f23e8e327d0>}"
      ]
     },
     "execution_count": 12,
     "metadata": {},
     "output_type": "execute_result"
    }
   ],
   "source": [
    "files"
   ]
  },
  {
   "cell_type": "code",
   "execution_count": 19,
   "metadata": {},
   "outputs": [],
   "source": [
    "branches = [\n",
    "    \"Muon_pt\",\n",
    "    \"Muon_eta\",\n",
    "    \"Muon_phi\",\n",
    "    \"Muon_mass\",\n",
    "    \"Electron_pt\",\n",
    "    \"Electron_eta\",\n",
    "    \"Electron_phi\",\n",
    "    \"Electron_mass\",\n",
    "    \"Jet_pt\",\n",
    "    \"Jet_eta\",\n",
    "    \"Jet_phi\",\n",
    "    \"Jet_mass\",\n",
    "    \"mu_e_inv_mass\",\n",
    "    \"leading_lepton_pt\",\n",
    "]\n"
   ]
  },
  {
   "cell_type": "code",
   "execution_count": 20,
   "metadata": {},
   "outputs": [
    {
     "data": {
      "text/plain": [
       "['tout;1',\n",
       " 'h_Muon_pt;1',\n",
       " 'h_Muon_eta;1',\n",
       " 'h_Electron_pt;1',\n",
       " 'h_Electron_eta;1',\n",
       " 'h_Muon_Electron_invariant_mass;1',\n",
       " 'h_leading_lepton_pt;1']"
      ]
     },
     "execution_count": 20,
     "metadata": {},
     "output_type": "execute_result"
    }
   ],
   "source": [
    "data_hists = list(files['Data'].classnames().keys())\n",
    "#data_hists.remove('tout;1')\n",
    "#data_hists.remove('h_Electron_eta;1')\n",
    "data_hists"
   ]
  },
  {
   "cell_type": "code",
   "execution_count": 21,
   "metadata": {},
   "outputs": [
    {
     "data": {
      "text/plain": [
       "['tout_weighted;1',\n",
       " 'h_Muon_pt_weighted;1',\n",
       " 'h_Muon_eta_weighted;1',\n",
       " 'h_Electron_pt_weighted;1',\n",
       " 'h_Electron_eta_weighted;1',\n",
       " 'h_Muon_Electron_invariant_mass_weighted;1',\n",
       " 'h_leading_lepton_pt_weighted;1']"
      ]
     },
     "execution_count": 21,
     "metadata": {},
     "output_type": "execute_result"
    }
   ],
   "source": [
    "mc_hists = [re.findall(r\"(.*);1\", i)[0]+\"_weighted;1\" for i in data_hists]\n",
    "#mc_hists.remove(\"h_Electron_eta_weighted;1\")\n",
    "mc_hists"
   ]
  },
  {
   "cell_type": "code",
   "execution_count": 45,
   "metadata": {},
   "outputs": [
    {
     "ename": "DeserializationError",
     "evalue": "while reading\n\n    TBasket version None as uproot.models.TBasket.Model_TBasket (? bytes)\n        fNbytes: 78\n        fObjlen: 0\n        fDatime: 1854719872\n        fKeylen: 78\n        fCycle: 0\n        fVersion: 3\n        fBufferSize: 32000\n        fNevBufSize: 8\n        fNevBuf: 0\n        fLast: 78\nMembers for TBasket: fNbytes?, fObjlen?, fDatime?, fKeylen?, fCycle?, fVersion?, fBufferSize?, fNevBufSize?, fNevBuf?, fLast?\n\nattempting to get bytes 375401:375401\noutside expected range 375245:375323 for this Chunk\nin file ./Python_Analysis/output/Data.root",
     "output_type": "error",
     "traceback": [
      "\u001b[0;31m---------------------------------------------------------------------------\u001b[0m",
      "\u001b[0;31mDeserializationError\u001b[0m                      Traceback (most recent call last)",
      "\u001b[1;32m/home/johan/CMS/TTbar/Plotting.ipynb Cell 13\u001b[0m in \u001b[0;36m<cell line: 1>\u001b[0;34m()\u001b[0m\n\u001b[0;32m----> <a href='vscode-notebook-cell:/home/johan/CMS/TTbar/Plotting.ipynb#X33sZmlsZQ%3D%3D?line=0'>1</a>\u001b[0m files[\u001b[39m'\u001b[39;49m\u001b[39mData\u001b[39;49m\u001b[39m'\u001b[39;49m][\u001b[39m'\u001b[39;49m\u001b[39mtout\u001b[39;49m\u001b[39m'\u001b[39;49m][\u001b[39m'\u001b[39;49m\u001b[39mElectron_pt\u001b[39;49m\u001b[39m'\u001b[39;49m]\u001b[39m.\u001b[39;49marray()\n",
      "File \u001b[0;32m~/anaconda3/envs/shep/lib/python3.10/site-packages/uproot/behaviors/TBranch.py:2210\u001b[0m, in \u001b[0;36mTBranch.array\u001b[0;34m(self, interpretation, entry_start, entry_stop, decompression_executor, interpretation_executor, array_cache, library)\u001b[0m\n\u001b[1;32m   2204\u001b[0m             \u001b[39mfor\u001b[39;00m (\n\u001b[1;32m   2205\u001b[0m                 basket_num,\n\u001b[1;32m   2206\u001b[0m                 range_or_basket,\n\u001b[1;32m   2207\u001b[0m             ) \u001b[39min\u001b[39;00m branch\u001b[39m.\u001b[39mentries_to_ranges_or_baskets(entry_start, entry_stop):\n\u001b[1;32m   2208\u001b[0m                 ranges_or_baskets\u001b[39m.\u001b[39mappend((branch, basket_num, range_or_basket))\n\u001b[0;32m-> 2210\u001b[0m _ranges_or_baskets_to_arrays(\n\u001b[1;32m   2211\u001b[0m     \u001b[39mself\u001b[39;49m,\n\u001b[1;32m   2212\u001b[0m     ranges_or_baskets,\n\u001b[1;32m   2213\u001b[0m     branchid_interpretation,\n\u001b[1;32m   2214\u001b[0m     entry_start,\n\u001b[1;32m   2215\u001b[0m     entry_stop,\n\u001b[1;32m   2216\u001b[0m     decompression_executor,\n\u001b[1;32m   2217\u001b[0m     interpretation_executor,\n\u001b[1;32m   2218\u001b[0m     library,\n\u001b[1;32m   2219\u001b[0m     arrays,\n\u001b[1;32m   2220\u001b[0m     \u001b[39mFalse\u001b[39;49;00m,\n\u001b[1;32m   2221\u001b[0m )\n\u001b[1;32m   2223\u001b[0m _fix_asgrouped(\n\u001b[1;32m   2224\u001b[0m     arrays, expression_context, branchid_interpretation, library, \u001b[39mNone\u001b[39;00m\n\u001b[1;32m   2225\u001b[0m )\n\u001b[1;32m   2227\u001b[0m \u001b[39mif\u001b[39;00m array_cache \u001b[39mis\u001b[39;00m \u001b[39mnot\u001b[39;00m \u001b[39mNone\u001b[39;00m:\n",
      "File \u001b[0;32m~/anaconda3/envs/shep/lib/python3.10/site-packages/uproot/behaviors/TBranch.py:3495\u001b[0m, in \u001b[0;36m_ranges_or_baskets_to_arrays\u001b[0;34m(hasbranches, ranges_or_baskets, branchid_interpretation, entry_start, entry_stop, decompression_executor, interpretation_executor, library, arrays, update_ranges_or_baskets)\u001b[0m\n\u001b[1;32m   3492\u001b[0m     \u001b[39mpass\u001b[39;00m\n\u001b[1;32m   3494\u001b[0m \u001b[39melif\u001b[39;00m \u001b[39misinstance\u001b[39m(obj, \u001b[39mtuple\u001b[39m) \u001b[39mand\u001b[39;00m \u001b[39mlen\u001b[39m(obj) \u001b[39m==\u001b[39m \u001b[39m3\u001b[39m:\n\u001b[0;32m-> 3495\u001b[0m     uproot\u001b[39m.\u001b[39;49msource\u001b[39m.\u001b[39;49mfutures\u001b[39m.\u001b[39;49mdelayed_raise(\u001b[39m*\u001b[39;49mobj)\n\u001b[1;32m   3497\u001b[0m \u001b[39melse\u001b[39;00m:\n\u001b[1;32m   3498\u001b[0m     \u001b[39mraise\u001b[39;00m \u001b[39mAssertionError\u001b[39;00m(obj)\n",
      "File \u001b[0;32m~/anaconda3/envs/shep/lib/python3.10/site-packages/uproot/source/futures.py:36\u001b[0m, in \u001b[0;36mdelayed_raise\u001b[0;34m(exception_class, exception_value, traceback)\u001b[0m\n\u001b[1;32m     32\u001b[0m \u001b[39mdef\u001b[39;00m \u001b[39mdelayed_raise\u001b[39m(exception_class, exception_value, traceback):\n\u001b[1;32m     33\u001b[0m     \u001b[39m\"\"\"\u001b[39;00m\n\u001b[1;32m     34\u001b[0m \u001b[39m    Raise an exception from a background thread on the main thread.\u001b[39;00m\n\u001b[1;32m     35\u001b[0m \u001b[39m    \"\"\"\u001b[39;00m\n\u001b[0;32m---> 36\u001b[0m     \u001b[39mraise\u001b[39;00m exception_value\u001b[39m.\u001b[39mwith_traceback(traceback)\n",
      "File \u001b[0;32m~/anaconda3/envs/shep/lib/python3.10/site-packages/uproot/behaviors/TBranch.py:3416\u001b[0m, in \u001b[0;36m_ranges_or_baskets_to_arrays.<locals>.chunk_to_basket\u001b[0;34m(chunk, branch, basket_num)\u001b[0m\n\u001b[1;32m   3414\u001b[0m \u001b[39mtry\u001b[39;00m:\n\u001b[1;32m   3415\u001b[0m     cursor \u001b[39m=\u001b[39m uproot\u001b[39m.\u001b[39msource\u001b[39m.\u001b[39mcursor\u001b[39m.\u001b[39mCursor(chunk\u001b[39m.\u001b[39mstart)\n\u001b[0;32m-> 3416\u001b[0m     basket \u001b[39m=\u001b[39m uproot\u001b[39m.\u001b[39;49mmodels\u001b[39m.\u001b[39;49mTBasket\u001b[39m.\u001b[39;49mModel_TBasket\u001b[39m.\u001b[39;49mread(\n\u001b[1;32m   3417\u001b[0m         chunk,\n\u001b[1;32m   3418\u001b[0m         cursor,\n\u001b[1;32m   3419\u001b[0m         {\u001b[39m\"\u001b[39;49m\u001b[39mbasket_num\u001b[39;49m\u001b[39m\"\u001b[39;49m: basket_num},\n\u001b[1;32m   3420\u001b[0m         hasbranches\u001b[39m.\u001b[39;49m_file,\n\u001b[1;32m   3421\u001b[0m         hasbranches\u001b[39m.\u001b[39;49m_file,\n\u001b[1;32m   3422\u001b[0m         branch,\n\u001b[1;32m   3423\u001b[0m     )\n\u001b[1;32m   3424\u001b[0m     original_index \u001b[39m=\u001b[39m range_original_index[(chunk\u001b[39m.\u001b[39mstart, chunk\u001b[39m.\u001b[39mstop)]\n\u001b[1;32m   3425\u001b[0m     \u001b[39mif\u001b[39;00m update_ranges_or_baskets:\n",
      "File \u001b[0;32m~/anaconda3/envs/shep/lib/python3.10/site-packages/uproot/model.py:806\u001b[0m, in \u001b[0;36mModel.read\u001b[0;34m(cls, chunk, cursor, context, file, selffile, parent, concrete)\u001b[0m\n\u001b[1;32m    801\u001b[0m \u001b[39mif\u001b[39;00m context\u001b[39m.\u001b[39mget(\u001b[39m\"\u001b[39m\u001b[39mreading\u001b[39m\u001b[39m\"\u001b[39m, \u001b[39mTrue\u001b[39;00m):\n\u001b[1;32m    802\u001b[0m     \u001b[39mself\u001b[39m\u001b[39m.\u001b[39mhook_before_read_members(\n\u001b[1;32m    803\u001b[0m         chunk\u001b[39m=\u001b[39mchunk, cursor\u001b[39m=\u001b[39mcursor, context\u001b[39m=\u001b[39mcontext, file\u001b[39m=\u001b[39mfile\n\u001b[1;32m    804\u001b[0m     )\n\u001b[0;32m--> 806\u001b[0m     \u001b[39mself\u001b[39;49m\u001b[39m.\u001b[39;49mread_members(chunk, cursor, context, file)\n\u001b[1;32m    808\u001b[0m     \u001b[39mself\u001b[39m\u001b[39m.\u001b[39mhook_after_read_members(\n\u001b[1;32m    809\u001b[0m         chunk\u001b[39m=\u001b[39mchunk, cursor\u001b[39m=\u001b[39mcursor, context\u001b[39m=\u001b[39mcontext, file\u001b[39m=\u001b[39mfile\n\u001b[1;32m    810\u001b[0m     )\n\u001b[1;32m    812\u001b[0m \u001b[39mself\u001b[39m\u001b[39m.\u001b[39mcheck_numbytes(chunk, cursor, context)\n",
      "File \u001b[0;32m~/anaconda3/envs/shep/lib/python3.10/site-packages/uproot/models/TBasket.py:275\u001b[0m, in \u001b[0;36mModel_TBasket.read_members\u001b[0;34m(self, chunk, cursor, context, file)\u001b[0m\n\u001b[1;32m    272\u001b[0m     cursor\u001b[39m.\u001b[39mskip(\u001b[39mself\u001b[39m\u001b[39m.\u001b[39m_members[\u001b[39m\"\u001b[39m\u001b[39mfKeylen\u001b[39m\u001b[39m\"\u001b[39m])\n\u001b[1;32m    274\u001b[0m     \u001b[39mself\u001b[39m\u001b[39m.\u001b[39m_raw_data \u001b[39m=\u001b[39m \u001b[39mNone\u001b[39;00m\n\u001b[0;32m--> 275\u001b[0m     \u001b[39mself\u001b[39m\u001b[39m.\u001b[39m_data \u001b[39m=\u001b[39m cursor\u001b[39m.\u001b[39;49mbytes(chunk, \u001b[39mself\u001b[39;49m\u001b[39m.\u001b[39;49mborder, context)\n\u001b[1;32m    277\u001b[0m \u001b[39melse\u001b[39;00m:\n\u001b[1;32m    278\u001b[0m     compressed_bytes \u001b[39m=\u001b[39m \u001b[39mself\u001b[39m\u001b[39m.\u001b[39m_members[\u001b[39m\"\u001b[39m\u001b[39mfNbytes\u001b[39m\u001b[39m\"\u001b[39m] \u001b[39m-\u001b[39m \u001b[39mself\u001b[39m\u001b[39m.\u001b[39m_members[\u001b[39m\"\u001b[39m\u001b[39mfKeylen\u001b[39m\u001b[39m\"\u001b[39m]\n",
      "File \u001b[0;32m~/anaconda3/envs/shep/lib/python3.10/site-packages/uproot/source/cursor.py:310\u001b[0m, in \u001b[0;36mCursor.bytes\u001b[0;34m(self, chunk, length, context, move)\u001b[0m\n\u001b[1;32m    308\u001b[0m \u001b[39mif\u001b[39;00m move:\n\u001b[1;32m    309\u001b[0m     \u001b[39mself\u001b[39m\u001b[39m.\u001b[39m_index \u001b[39m=\u001b[39m stop\n\u001b[0;32m--> 310\u001b[0m \u001b[39mreturn\u001b[39;00m chunk\u001b[39m.\u001b[39;49mget(start, stop, \u001b[39mself\u001b[39;49m, context)\n",
      "File \u001b[0;32m~/anaconda3/envs/shep/lib/python3.10/site-packages/uproot/source/chunk.py:425\u001b[0m, in \u001b[0;36mChunk.get\u001b[0;34m(self, start, stop, cursor, context)\u001b[0m\n\u001b[1;32m    422\u001b[0m             \u001b[39mreturn\u001b[39;00m \u001b[39mself\u001b[39m\u001b[39m.\u001b[39m_raw_data[local_start:local_stop]\n\u001b[1;32m    424\u001b[0m         \u001b[39melse\u001b[39;00m:\n\u001b[0;32m--> 425\u001b[0m             \u001b[39mraise\u001b[39;00m uproot\u001b[39m.\u001b[39mdeserialization\u001b[39m.\u001b[39mDeserializationError(\n\u001b[1;32m    426\u001b[0m                 \u001b[39m\"\"\"attempting to get bytes {}:{}\u001b[39;00m\n\u001b[1;32m    427\u001b[0m \u001b[39moutside expected range {}:{} for this Chunk\"\"\"\u001b[39;00m\u001b[39m.\u001b[39mformat(\n\u001b[1;32m    428\u001b[0m                     start, stop, \u001b[39mself\u001b[39m\u001b[39m.\u001b[39m_start, \u001b[39mself\u001b[39m\u001b[39m.\u001b[39m_stop\n\u001b[1;32m    429\u001b[0m                 ),\n\u001b[1;32m    430\u001b[0m                 \u001b[39mself\u001b[39m,\n\u001b[1;32m    431\u001b[0m                 cursor\u001b[39m.\u001b[39mcopy(),\n\u001b[1;32m    432\u001b[0m                 context,\n\u001b[1;32m    433\u001b[0m                 \u001b[39mself\u001b[39m\u001b[39m.\u001b[39m_source\u001b[39m.\u001b[39mfile_path,\n\u001b[1;32m    434\u001b[0m             )\n",
      "\u001b[0;31mDeserializationError\u001b[0m: while reading\n\n    TBasket version None as uproot.models.TBasket.Model_TBasket (? bytes)\n        fNbytes: 78\n        fObjlen: 0\n        fDatime: 1854719872\n        fKeylen: 78\n        fCycle: 0\n        fVersion: 3\n        fBufferSize: 32000\n        fNevBufSize: 8\n        fNevBuf: 0\n        fLast: 78\nMembers for TBasket: fNbytes?, fObjlen?, fDatime?, fKeylen?, fCycle?, fVersion?, fBufferSize?, fNevBufSize?, fNevBuf?, fLast?\n\nattempting to get bytes 375401:375401\noutside expected range 375245:375323 for this Chunk\nin file ./Python_Analysis/output/Data.root"
     ]
    }
   ],
   "source": [
    "files['Data']['tout']['Electron_pt'].array()"
   ]
  },
  {
   "cell_type": "code",
   "execution_count": 40,
   "metadata": {},
   "outputs": [
    {
     "ename": "DeserializationError",
     "evalue": "while reading\n\n    TBasket version None as uproot.models.TBasket.Model_TBasket (? bytes)\n        fNbytes: 74\n        fObjlen: 0\n        fDatime: 1854719872\n        fKeylen: 74\n        fCycle: 0\n        fVersion: 3\n        fBufferSize: 32000\n        fNevBufSize: 8\n        fNevBuf: 0\n        fLast: 74\nMembers for TBasket: fNbytes?, fObjlen?, fDatime?, fKeylen?, fCycle?, fVersion?, fBufferSize?, fNevBufSize?, fNevBuf?, fLast?\n\nattempting to get bytes 375093:375093\noutside expected range 374945:375019 for this Chunk\nin file ./Python_Analysis/output/Data.root",
     "output_type": "error",
     "traceback": [
      "\u001b[0;31m---------------------------------------------------------------------------\u001b[0m",
      "\u001b[0;31mDeserializationError\u001b[0m                      Traceback (most recent call last)",
      "\u001b[1;32m/home/johan/CMS/TTbar/Plotting.ipynb Cell 13\u001b[0m in \u001b[0;36m<cell line: 2>\u001b[0;34m()\u001b[0m\n\u001b[1;32m      <a href='vscode-notebook-cell:/home/johan/CMS/TTbar/Plotting.ipynb#X22sZmlsZQ%3D%3D?line=2'>3</a>\u001b[0m \u001b[39mfor\u001b[39;00m branch \u001b[39min\u001b[39;00m branches:\n\u001b[1;32m      <a href='vscode-notebook-cell:/home/johan/CMS/TTbar/Plotting.ipynb#X22sZmlsZQ%3D%3D?line=3'>4</a>\u001b[0m     \u001b[39mif\u001b[39;00m sample \u001b[39m==\u001b[39m \u001b[39m'\u001b[39m\u001b[39mData\u001b[39m\u001b[39m'\u001b[39m:\n\u001b[0;32m----> <a href='vscode-notebook-cell:/home/johan/CMS/TTbar/Plotting.ipynb#X22sZmlsZQ%3D%3D?line=4'>5</a>\u001b[0m         df[branch][\u001b[39m'\u001b[39m\u001b[39mData\u001b[39m\u001b[39m'\u001b[39m][sample][\u001b[39m'\u001b[39m\u001b[39marray\u001b[39m\u001b[39m'\u001b[39m] \u001b[39m=\u001b[39m files[sample][\u001b[39m'\u001b[39;49m\u001b[39mtout\u001b[39;49m\u001b[39m'\u001b[39;49m][branch]\u001b[39m.\u001b[39;49marray()\n\u001b[1;32m      <a href='vscode-notebook-cell:/home/johan/CMS/TTbar/Plotting.ipynb#X22sZmlsZQ%3D%3D?line=5'>6</a>\u001b[0m     \u001b[39melse\u001b[39;00m:\n\u001b[1;32m      <a href='vscode-notebook-cell:/home/johan/CMS/TTbar/Plotting.ipynb#X22sZmlsZQ%3D%3D?line=6'>7</a>\u001b[0m         df[branch][\u001b[39m'\u001b[39m\u001b[39mMC\u001b[39m\u001b[39m'\u001b[39m][sample][\u001b[39m'\u001b[39m\u001b[39marray\u001b[39m\u001b[39m'\u001b[39m] \u001b[39m=\u001b[39m files[sample][\u001b[39m'\u001b[39m\u001b[39mtout\u001b[39m\u001b[39m'\u001b[39m][branch]\u001b[39m.\u001b[39marray()\n",
      "File \u001b[0;32m~/anaconda3/envs/shep/lib/python3.10/site-packages/uproot/behaviors/TBranch.py:2210\u001b[0m, in \u001b[0;36mTBranch.array\u001b[0;34m(self, interpretation, entry_start, entry_stop, decompression_executor, interpretation_executor, array_cache, library)\u001b[0m\n\u001b[1;32m   2204\u001b[0m             \u001b[39mfor\u001b[39;00m (\n\u001b[1;32m   2205\u001b[0m                 basket_num,\n\u001b[1;32m   2206\u001b[0m                 range_or_basket,\n\u001b[1;32m   2207\u001b[0m             ) \u001b[39min\u001b[39;00m branch\u001b[39m.\u001b[39mentries_to_ranges_or_baskets(entry_start, entry_stop):\n\u001b[1;32m   2208\u001b[0m                 ranges_or_baskets\u001b[39m.\u001b[39mappend((branch, basket_num, range_or_basket))\n\u001b[0;32m-> 2210\u001b[0m _ranges_or_baskets_to_arrays(\n\u001b[1;32m   2211\u001b[0m     \u001b[39mself\u001b[39;49m,\n\u001b[1;32m   2212\u001b[0m     ranges_or_baskets,\n\u001b[1;32m   2213\u001b[0m     branchid_interpretation,\n\u001b[1;32m   2214\u001b[0m     entry_start,\n\u001b[1;32m   2215\u001b[0m     entry_stop,\n\u001b[1;32m   2216\u001b[0m     decompression_executor,\n\u001b[1;32m   2217\u001b[0m     interpretation_executor,\n\u001b[1;32m   2218\u001b[0m     library,\n\u001b[1;32m   2219\u001b[0m     arrays,\n\u001b[1;32m   2220\u001b[0m     \u001b[39mFalse\u001b[39;49;00m,\n\u001b[1;32m   2221\u001b[0m )\n\u001b[1;32m   2223\u001b[0m _fix_asgrouped(\n\u001b[1;32m   2224\u001b[0m     arrays, expression_context, branchid_interpretation, library, \u001b[39mNone\u001b[39;00m\n\u001b[1;32m   2225\u001b[0m )\n\u001b[1;32m   2227\u001b[0m \u001b[39mif\u001b[39;00m array_cache \u001b[39mis\u001b[39;00m \u001b[39mnot\u001b[39;00m \u001b[39mNone\u001b[39;00m:\n",
      "File \u001b[0;32m~/anaconda3/envs/shep/lib/python3.10/site-packages/uproot/behaviors/TBranch.py:3495\u001b[0m, in \u001b[0;36m_ranges_or_baskets_to_arrays\u001b[0;34m(hasbranches, ranges_or_baskets, branchid_interpretation, entry_start, entry_stop, decompression_executor, interpretation_executor, library, arrays, update_ranges_or_baskets)\u001b[0m\n\u001b[1;32m   3492\u001b[0m     \u001b[39mpass\u001b[39;00m\n\u001b[1;32m   3494\u001b[0m \u001b[39melif\u001b[39;00m \u001b[39misinstance\u001b[39m(obj, \u001b[39mtuple\u001b[39m) \u001b[39mand\u001b[39;00m \u001b[39mlen\u001b[39m(obj) \u001b[39m==\u001b[39m \u001b[39m3\u001b[39m:\n\u001b[0;32m-> 3495\u001b[0m     uproot\u001b[39m.\u001b[39;49msource\u001b[39m.\u001b[39;49mfutures\u001b[39m.\u001b[39;49mdelayed_raise(\u001b[39m*\u001b[39;49mobj)\n\u001b[1;32m   3497\u001b[0m \u001b[39melse\u001b[39;00m:\n\u001b[1;32m   3498\u001b[0m     \u001b[39mraise\u001b[39;00m \u001b[39mAssertionError\u001b[39;00m(obj)\n",
      "File \u001b[0;32m~/anaconda3/envs/shep/lib/python3.10/site-packages/uproot/source/futures.py:36\u001b[0m, in \u001b[0;36mdelayed_raise\u001b[0;34m(exception_class, exception_value, traceback)\u001b[0m\n\u001b[1;32m     32\u001b[0m \u001b[39mdef\u001b[39;00m \u001b[39mdelayed_raise\u001b[39m(exception_class, exception_value, traceback):\n\u001b[1;32m     33\u001b[0m     \u001b[39m\"\"\"\u001b[39;00m\n\u001b[1;32m     34\u001b[0m \u001b[39m    Raise an exception from a background thread on the main thread.\u001b[39;00m\n\u001b[1;32m     35\u001b[0m \u001b[39m    \"\"\"\u001b[39;00m\n\u001b[0;32m---> 36\u001b[0m     \u001b[39mraise\u001b[39;00m exception_value\u001b[39m.\u001b[39mwith_traceback(traceback)\n",
      "File \u001b[0;32m~/anaconda3/envs/shep/lib/python3.10/site-packages/uproot/behaviors/TBranch.py:3416\u001b[0m, in \u001b[0;36m_ranges_or_baskets_to_arrays.<locals>.chunk_to_basket\u001b[0;34m(chunk, branch, basket_num)\u001b[0m\n\u001b[1;32m   3414\u001b[0m \u001b[39mtry\u001b[39;00m:\n\u001b[1;32m   3415\u001b[0m     cursor \u001b[39m=\u001b[39m uproot\u001b[39m.\u001b[39msource\u001b[39m.\u001b[39mcursor\u001b[39m.\u001b[39mCursor(chunk\u001b[39m.\u001b[39mstart)\n\u001b[0;32m-> 3416\u001b[0m     basket \u001b[39m=\u001b[39m uproot\u001b[39m.\u001b[39;49mmodels\u001b[39m.\u001b[39;49mTBasket\u001b[39m.\u001b[39;49mModel_TBasket\u001b[39m.\u001b[39;49mread(\n\u001b[1;32m   3417\u001b[0m         chunk,\n\u001b[1;32m   3418\u001b[0m         cursor,\n\u001b[1;32m   3419\u001b[0m         {\u001b[39m\"\u001b[39;49m\u001b[39mbasket_num\u001b[39;49m\u001b[39m\"\u001b[39;49m: basket_num},\n\u001b[1;32m   3420\u001b[0m         hasbranches\u001b[39m.\u001b[39;49m_file,\n\u001b[1;32m   3421\u001b[0m         hasbranches\u001b[39m.\u001b[39;49m_file,\n\u001b[1;32m   3422\u001b[0m         branch,\n\u001b[1;32m   3423\u001b[0m     )\n\u001b[1;32m   3424\u001b[0m     original_index \u001b[39m=\u001b[39m range_original_index[(chunk\u001b[39m.\u001b[39mstart, chunk\u001b[39m.\u001b[39mstop)]\n\u001b[1;32m   3425\u001b[0m     \u001b[39mif\u001b[39;00m update_ranges_or_baskets:\n",
      "File \u001b[0;32m~/anaconda3/envs/shep/lib/python3.10/site-packages/uproot/model.py:806\u001b[0m, in \u001b[0;36mModel.read\u001b[0;34m(cls, chunk, cursor, context, file, selffile, parent, concrete)\u001b[0m\n\u001b[1;32m    801\u001b[0m \u001b[39mif\u001b[39;00m context\u001b[39m.\u001b[39mget(\u001b[39m\"\u001b[39m\u001b[39mreading\u001b[39m\u001b[39m\"\u001b[39m, \u001b[39mTrue\u001b[39;00m):\n\u001b[1;32m    802\u001b[0m     \u001b[39mself\u001b[39m\u001b[39m.\u001b[39mhook_before_read_members(\n\u001b[1;32m    803\u001b[0m         chunk\u001b[39m=\u001b[39mchunk, cursor\u001b[39m=\u001b[39mcursor, context\u001b[39m=\u001b[39mcontext, file\u001b[39m=\u001b[39mfile\n\u001b[1;32m    804\u001b[0m     )\n\u001b[0;32m--> 806\u001b[0m     \u001b[39mself\u001b[39;49m\u001b[39m.\u001b[39;49mread_members(chunk, cursor, context, file)\n\u001b[1;32m    808\u001b[0m     \u001b[39mself\u001b[39m\u001b[39m.\u001b[39mhook_after_read_members(\n\u001b[1;32m    809\u001b[0m         chunk\u001b[39m=\u001b[39mchunk, cursor\u001b[39m=\u001b[39mcursor, context\u001b[39m=\u001b[39mcontext, file\u001b[39m=\u001b[39mfile\n\u001b[1;32m    810\u001b[0m     )\n\u001b[1;32m    812\u001b[0m \u001b[39mself\u001b[39m\u001b[39m.\u001b[39mcheck_numbytes(chunk, cursor, context)\n",
      "File \u001b[0;32m~/anaconda3/envs/shep/lib/python3.10/site-packages/uproot/models/TBasket.py:275\u001b[0m, in \u001b[0;36mModel_TBasket.read_members\u001b[0;34m(self, chunk, cursor, context, file)\u001b[0m\n\u001b[1;32m    272\u001b[0m     cursor\u001b[39m.\u001b[39mskip(\u001b[39mself\u001b[39m\u001b[39m.\u001b[39m_members[\u001b[39m\"\u001b[39m\u001b[39mfKeylen\u001b[39m\u001b[39m\"\u001b[39m])\n\u001b[1;32m    274\u001b[0m     \u001b[39mself\u001b[39m\u001b[39m.\u001b[39m_raw_data \u001b[39m=\u001b[39m \u001b[39mNone\u001b[39;00m\n\u001b[0;32m--> 275\u001b[0m     \u001b[39mself\u001b[39m\u001b[39m.\u001b[39m_data \u001b[39m=\u001b[39m cursor\u001b[39m.\u001b[39;49mbytes(chunk, \u001b[39mself\u001b[39;49m\u001b[39m.\u001b[39;49mborder, context)\n\u001b[1;32m    277\u001b[0m \u001b[39melse\u001b[39;00m:\n\u001b[1;32m    278\u001b[0m     compressed_bytes \u001b[39m=\u001b[39m \u001b[39mself\u001b[39m\u001b[39m.\u001b[39m_members[\u001b[39m\"\u001b[39m\u001b[39mfNbytes\u001b[39m\u001b[39m\"\u001b[39m] \u001b[39m-\u001b[39m \u001b[39mself\u001b[39m\u001b[39m.\u001b[39m_members[\u001b[39m\"\u001b[39m\u001b[39mfKeylen\u001b[39m\u001b[39m\"\u001b[39m]\n",
      "File \u001b[0;32m~/anaconda3/envs/shep/lib/python3.10/site-packages/uproot/source/cursor.py:310\u001b[0m, in \u001b[0;36mCursor.bytes\u001b[0;34m(self, chunk, length, context, move)\u001b[0m\n\u001b[1;32m    308\u001b[0m \u001b[39mif\u001b[39;00m move:\n\u001b[1;32m    309\u001b[0m     \u001b[39mself\u001b[39m\u001b[39m.\u001b[39m_index \u001b[39m=\u001b[39m stop\n\u001b[0;32m--> 310\u001b[0m \u001b[39mreturn\u001b[39;00m chunk\u001b[39m.\u001b[39;49mget(start, stop, \u001b[39mself\u001b[39;49m, context)\n",
      "File \u001b[0;32m~/anaconda3/envs/shep/lib/python3.10/site-packages/uproot/source/chunk.py:425\u001b[0m, in \u001b[0;36mChunk.get\u001b[0;34m(self, start, stop, cursor, context)\u001b[0m\n\u001b[1;32m    422\u001b[0m             \u001b[39mreturn\u001b[39;00m \u001b[39mself\u001b[39m\u001b[39m.\u001b[39m_raw_data[local_start:local_stop]\n\u001b[1;32m    424\u001b[0m         \u001b[39melse\u001b[39;00m:\n\u001b[0;32m--> 425\u001b[0m             \u001b[39mraise\u001b[39;00m uproot\u001b[39m.\u001b[39mdeserialization\u001b[39m.\u001b[39mDeserializationError(\n\u001b[1;32m    426\u001b[0m                 \u001b[39m\"\"\"attempting to get bytes {}:{}\u001b[39;00m\n\u001b[1;32m    427\u001b[0m \u001b[39moutside expected range {}:{} for this Chunk\"\"\"\u001b[39;00m\u001b[39m.\u001b[39mformat(\n\u001b[1;32m    428\u001b[0m                     start, stop, \u001b[39mself\u001b[39m\u001b[39m.\u001b[39m_start, \u001b[39mself\u001b[39m\u001b[39m.\u001b[39m_stop\n\u001b[1;32m    429\u001b[0m                 ),\n\u001b[1;32m    430\u001b[0m                 \u001b[39mself\u001b[39m,\n\u001b[1;32m    431\u001b[0m                 cursor\u001b[39m.\u001b[39mcopy(),\n\u001b[1;32m    432\u001b[0m                 context,\n\u001b[1;32m    433\u001b[0m                 \u001b[39mself\u001b[39m\u001b[39m.\u001b[39m_source\u001b[39m.\u001b[39mfile_path,\n\u001b[1;32m    434\u001b[0m             )\n",
      "\u001b[0;31mDeserializationError\u001b[0m: while reading\n\n    TBasket version None as uproot.models.TBasket.Model_TBasket (? bytes)\n        fNbytes: 74\n        fObjlen: 0\n        fDatime: 1854719872\n        fKeylen: 74\n        fCycle: 0\n        fVersion: 3\n        fBufferSize: 32000\n        fNevBufSize: 8\n        fNevBuf: 0\n        fLast: 74\nMembers for TBasket: fNbytes?, fObjlen?, fDatime?, fKeylen?, fCycle?, fVersion?, fBufferSize?, fNevBufSize?, fNevBuf?, fLast?\n\nattempting to get bytes 375093:375093\noutside expected range 374945:375019 for this Chunk\nin file ./Python_Analysis/output/Data.root"
     ]
    }
   ],
   "source": [
    "df = defaultdict(lambda: defaultdict(lambda: defaultdict(dict)))\n",
    "for sample in files:\n",
    "    for branch in branches:\n",
    "        if sample == 'Data':\n",
    "            df[branch]['Data'][sample]['array'] = files[sample]['tout'][branch].array()\n",
    "        else:\n",
    "            df[branch]['MC'][sample]['array'] = files[sample]['tout'][branch].array()\n",
    "            df[branch]['MC'][sample]['weights'] = files[sample]['weights']['normalised_weights'].array()\n"
   ]
  },
  {
   "cell_type": "code",
   "execution_count": 23,
   "metadata": {},
   "outputs": [
    {
     "data": {
      "text/plain": [
       "defaultdict(<function __main__.<lambda>()>,\n",
       "            {'Muon_pt': defaultdict(<function __main__.<lambda>.<locals>.<lambda>()>,\n",
       "                         {'MC': defaultdict(list,\n",
       "                                      {'W': <TBranch 'Muon_pt' at 0x7f23e8e33880>,\n",
       "                                       'Diboson': <TBranch 'Muon_pt' at 0x7f23e6cc0be0>,\n",
       "                                       'TTbkgd': <TBranch 'Muon_pt' at 0x7f23e6cfba90>,\n",
       "                                       'TTLLorLTAUL': <TBranch 'Muon_pt' at 0x7f23e6d3b280>,\n",
       "                                       'ST': <TBranch 'Muon_pt' at 0x7f23e6d7a5c0>,\n",
       "                                       'DY': <TBranch 'Muon_pt' at 0x7f23e6baddb0>}),\n",
       "                          'Data': defaultdict(list,\n",
       "                                      {'Data': <TBranch 'Muon_pt' at 0x7f23e6bf15a0>})}),\n",
       "             'Muon_eta': defaultdict(<function __main__.<lambda>.<locals>.<lambda>()>,\n",
       "                         {'MC': defaultdict(list,\n",
       "                                      {'W': <TBranch 'Muon_eta' at 0x7f23e741f040>,\n",
       "                                       'Diboson': <TBranch 'Muon_eta' at 0x7f23e6cc0910>,\n",
       "                                       'TTbkgd': <TBranch 'Muon_eta' at 0x7f23e6d04310>,\n",
       "                                       'TTLLorLTAUL': <TBranch 'Muon_eta' at 0x7f23e6d3bac0>,\n",
       "                                       'ST': <TBranch 'Muon_eta' at 0x7f23e6d7ae00>,\n",
       "                                       'DY': <TBranch 'Muon_eta' at 0x7f23e6bae5f0>}),\n",
       "                          'Data': defaultdict(list,\n",
       "                                      {'Data': <TBranch 'Muon_eta' at 0x7f23e6bf1de0>})}),\n",
       "             'Muon_phi': defaultdict(<function __main__.<lambda>.<locals>.<lambda>()>,\n",
       "                         {'MC': defaultdict(list,\n",
       "                                      {'W': <TBranch 'Muon_phi' at 0x7f23e741f3a0>,\n",
       "                                       'Diboson': <TBranch 'Muon_phi' at 0x7f23e6cc04f0>,\n",
       "                                       'TTbkgd': <TBranch 'Muon_phi' at 0x7f23e6d04ac0>,\n",
       "                                       'TTLLorLTAUL': <TBranch 'Muon_phi' at 0x7f23e6d502b0>,\n",
       "                                       'ST': <TBranch 'Muon_phi' at 0x7f23e6d7b5b0>,\n",
       "                                       'DY': <TBranch 'Muon_phi' at 0x7f23e6baeda0>}),\n",
       "                          'Data': defaultdict(list,\n",
       "                                      {'Data': <TBranch 'Muon_phi' at 0x7f23e6bf2590>})}),\n",
       "             'Muon_mass': defaultdict(<function __main__.<lambda>.<locals>.<lambda>()>,\n",
       "                         {'MC': defaultdict(list,\n",
       "                                      {'W': <TBranch 'Muon_mass' at 0x7f23e741fcd0>,\n",
       "                                       'Diboson': <TBranch 'Muon_mass' at 0x7f23e6cc0b20>,\n",
       "                                       'TTbkgd': <TBranch 'Muon_mass' at 0x7f23e6d05270>,\n",
       "                                       'TTLLorLTAUL': <TBranch 'Muon_mass' at 0x7f23e6d50a60>,\n",
       "                                       'ST': <TBranch 'Muon_mass' at 0x7f23e6d7bd60>,\n",
       "                                       'DY': <TBranch 'Muon_mass' at 0x7f23e6baf550>}),\n",
       "                          'Data': defaultdict(list,\n",
       "                                      {'Data': <TBranch 'Muon_mass' at 0x7f23e6bf2d40>})}),\n",
       "             'Electron_pt': defaultdict(<function __main__.<lambda>.<locals>.<lambda>()>,\n",
       "                         {'MC': defaultdict(list,\n",
       "                                      {'W': <TBranch 'Electron_pt' at 0x7f23e74245b0>,\n",
       "                                       'Diboson': <TBranch 'Electron_pt' at 0x7f23e6cc2230>,\n",
       "                                       'TTbkgd': <TBranch 'Electron_pt' at 0x7f23e6d05a20>,\n",
       "                                       'TTLLorLTAUL': <TBranch 'Electron_pt' at 0x7f23e6d51210>,\n",
       "                                       'ST': <TBranch 'Electron_pt' at 0x7f23e6b90550>,\n",
       "                                       'DY': <TBranch 'Electron_pt' at 0x7f23e6bafd00>}),\n",
       "                          'Data': defaultdict(list,\n",
       "                                      {'Data': <TBranch 'Electron_pt' at 0x7f23e6bf34f0>})}),\n",
       "             'Electron_eta': defaultdict(<function __main__.<lambda>.<locals>.<lambda>()>,\n",
       "                         {'MC': defaultdict(list,\n",
       "                                      {'W': <TBranch 'Electron_eta' at 0x7f23e7424d60>,\n",
       "                                       'Diboson': <TBranch 'Electron_eta' at 0x7f23e6cc29e0>,\n",
       "                                       'TTbkgd': <TBranch 'Electron_eta' at 0x7f23e6d061d0>,\n",
       "                                       'TTLLorLTAUL': <TBranch 'Electron_eta' at 0x7f23e6d519c0>,\n",
       "                                       'ST': <TBranch 'Electron_eta' at 0x7f23e6b90d00>,\n",
       "                                       'DY': <TBranch 'Electron_eta' at 0x7f23e6bc44f0>}),\n",
       "                          'Data': defaultdict(list,\n",
       "                                      {'Data': <TBranch 'Electron_eta' at 0x7f23e6bf3ca0>})}),\n",
       "             'Electron_phi': defaultdict(<function __main__.<lambda>.<locals>.<lambda>()>,\n",
       "                         {'MC': defaultdict(list,\n",
       "                                      {'W': <TBranch 'Electron_phi' at 0x7f23e7425360>,\n",
       "                                       'Diboson': <TBranch 'Electron_phi' at 0x7f23e6cc3190>,\n",
       "                                       'TTbkgd': <TBranch 'Electron_phi' at 0x7f23e6d06980>,\n",
       "                                       'TTLLorLTAUL': <TBranch 'Electron_phi' at 0x7f23e6d52170>,\n",
       "                                       'ST': <TBranch 'Electron_phi' at 0x7f23e6b914b0>,\n",
       "                                       'DY': <TBranch 'Electron_phi' at 0x7f23e6bc4ca0>}),\n",
       "                          'Data': defaultdict(list,\n",
       "                                      {'Data': <TBranch 'Electron_phi' at 0x7f23e6c08490>})}),\n",
       "             'Electron_mass': defaultdict(<function __main__.<lambda>.<locals>.<lambda>()>,\n",
       "                         {'MC': defaultdict(list,\n",
       "                                      {'W': <TBranch 'Electron_mass' at 0x7f23e7425c60>,\n",
       "                                       'Diboson': <TBranch 'Electron_mass' at 0x7f23e6cc3940>,\n",
       "                                       'TTbkgd': <TBranch 'Electron_mass' at 0x7f23e6d07130>,\n",
       "                                       'TTLLorLTAUL': <TBranch 'Electron_mass' at 0x7f23e6d52920>,\n",
       "                                       'ST': <TBranch 'Electron_mass' at 0x7f23e6b91c60>,\n",
       "                                       'DY': <TBranch 'Electron_mass' at 0x7f23e6bc5450>}),\n",
       "                          'Data': defaultdict(list,\n",
       "                                      {'Data': <TBranch 'Electron_mass' at 0x7f23e6c08c40>})}),\n",
       "             'Jet_pt': defaultdict(<function __main__.<lambda>.<locals>.<lambda>()>,\n",
       "                         {'MC': defaultdict(list,\n",
       "                                      {'W': <TBranch 'Jet_pt' at 0x7f23e7456710>,\n",
       "                                       'Diboson': <TBranch 'Jet_pt' at 0x7f23e6cf0130>,\n",
       "                                       'TTbkgd': <TBranch 'Jet_pt' at 0x7f23e6d078e0>,\n",
       "                                       'TTLLorLTAUL': <TBranch 'Jet_pt' at 0x7f23e6d530d0>,\n",
       "                                       'ST': <TBranch 'Jet_pt' at 0x7f23e6b92410>,\n",
       "                                       'DY': <TBranch 'Jet_pt' at 0x7f23e6bc5c00>}),\n",
       "                          'Data': defaultdict(list,\n",
       "                                      {'Data': <TBranch 'Jet_pt' at 0x7f23e6c093f0>})}),\n",
       "             'Jet_eta': defaultdict(<function __main__.<lambda>.<locals>.<lambda>()>,\n",
       "                         {'MC': defaultdict(list,\n",
       "                                      {'W': <TBranch 'Jet_eta' at 0x7f23e7456ec0>,\n",
       "                                       'Diboson': <TBranch 'Jet_eta' at 0x7f23e6cf08e0>,\n",
       "                                       'TTbkgd': <TBranch 'Jet_eta' at 0x7f23e6d180d0>,\n",
       "                                       'TTLLorLTAUL': <TBranch 'Jet_eta' at 0x7f23e6d53880>,\n",
       "                                       'ST': <TBranch 'Jet_eta' at 0x7f23e6b92bc0>,\n",
       "                                       'DY': <TBranch 'Jet_eta' at 0x7f23e6bc63b0>}),\n",
       "                          'Data': defaultdict(list,\n",
       "                                      {'Data': <TBranch 'Jet_eta' at 0x7f23e6c09ba0>})}),\n",
       "             'Jet_phi': defaultdict(<function __main__.<lambda>.<locals>.<lambda>()>,\n",
       "                         {'MC': defaultdict(list,\n",
       "                                      {'W': <TBranch 'Jet_phi' at 0x7f23e7457670>,\n",
       "                                       'Diboson': <TBranch 'Jet_phi' at 0x7f23e6cf1090>,\n",
       "                                       'TTbkgd': <TBranch 'Jet_phi' at 0x7f23e6d18880>,\n",
       "                                       'TTLLorLTAUL': <TBranch 'Jet_phi' at 0x7f23e6d53fa0>,\n",
       "                                       'ST': <TBranch 'Jet_phi' at 0x7f23e6b93370>,\n",
       "                                       'DY': <TBranch 'Jet_phi' at 0x7f23e6bc6b60>}),\n",
       "                          'Data': defaultdict(list,\n",
       "                                      {'Data': <TBranch 'Jet_phi' at 0x7f23e6c0a350>})}),\n",
       "             'Jet_mass': defaultdict(<function __main__.<lambda>.<locals>.<lambda>()>,\n",
       "                         {'MC': defaultdict(list,\n",
       "                                      {'W': <TBranch 'Jet_mass' at 0x7f23e7457e20>,\n",
       "                                       'Diboson': <TBranch 'Jet_mass' at 0x7f23e6cf1840>,\n",
       "                                       'TTbkgd': <TBranch 'Jet_mass' at 0x7f23e6d19030>,\n",
       "                                       'TTLLorLTAUL': <TBranch 'Jet_mass' at 0x7f23e6d60820>,\n",
       "                                       'ST': <TBranch 'Jet_mass' at 0x7f23e6b93b20>,\n",
       "                                       'DY': <TBranch 'Jet_mass' at 0x7f23e6bc7310>}),\n",
       "                          'Data': defaultdict(list,\n",
       "                                      {'Data': <TBranch 'Jet_mass' at 0x7f23e6c0ab00>})}),\n",
       "             'mu_e_inv_mass': defaultdict(<function __main__.<lambda>.<locals>.<lambda>()>,\n",
       "                         {'MC': defaultdict(list,\n",
       "                                      {'W': <TBranch 'mu_e_inv_mass' at 0x7f23e7470460>,\n",
       "                                       'Diboson': <TBranch 'mu_e_inv_mass' at 0x7f23e6cf1ff0>,\n",
       "                                       'TTbkgd': <TBranch 'mu_e_inv_mass' at 0x7f23e6d197e0>,\n",
       "                                       'TTLLorLTAUL': <TBranch 'mu_e_inv_mass' at 0x7f23e6d60fd0>,\n",
       "                                       'ST': <TBranch 'mu_e_inv_mass' at 0x7f23e6b9c310>,\n",
       "                                       'DY': <TBranch 'mu_e_inv_mass' at 0x7f23e6bc7ac0>}),\n",
       "                          'Data': defaultdict(list,\n",
       "                                      {'Data': <TBranch 'mu_e_inv_mass' at 0x7f23e6c0b2b0>})}),\n",
       "             'leading_lepton_pt': defaultdict(<function __main__.<lambda>.<locals>.<lambda>()>,\n",
       "                         {'MC': defaultdict(list,\n",
       "                                      {'W': <TBranch 'leading_lepton_pt' at 0x7f23e7470e20>,\n",
       "                                       'Diboson': <TBranch 'leading_lepton_pt' at 0x7f23e6cf27a0>,\n",
       "                                       'TTbkgd': <TBranch 'leading_lepton_pt' at 0x7f23e6d19f90>,\n",
       "                                       'TTLLorLTAUL': <TBranch 'leading_lepton_pt' at 0x7f23e6d61780>,\n",
       "                                       'ST': <TBranch 'leading_lepton_pt' at 0x7f23e6b9cac0>,\n",
       "                                       'DY': <TBranch 'leading_lepton_pt' at 0x7f23e6bd82b0>}),\n",
       "                          'Data': defaultdict(list,\n",
       "                                      {'Data': <TBranch 'leading_lepton_pt' at 0x7f23e6c0ba60>})})})"
      ]
     },
     "execution_count": 23,
     "metadata": {},
     "output_type": "execute_result"
    }
   ],
   "source": [
    "df"
   ]
  },
  {
   "cell_type": "code",
   "execution_count": 15,
   "metadata": {},
   "outputs": [
    {
     "ename": "KeyInFileError",
     "evalue": "not found: 'tout_weighted' with cycle 1\n\n    Available keys: 'weights;1', 'tout;1', 'h_Muon_pt_weighted;1', 'h_Muon_eta_weighted;1', 'h_Electron_pt_weighted;1', 'h_Electron_eta_weighted;1', 'Run_out;1', 'h_Muon_eta;1', 'h_Muon_pt;1', 'h_leading_lepton_pt_weighted;1'...\n\nin file ./Python_Analysis/output/final_mc/W.root",
     "output_type": "error",
     "traceback": [
      "\u001b[0;31m---------------------------------------------------------------------------\u001b[0m",
      "\u001b[0;31mKeyInFileError\u001b[0m                            Traceback (most recent call last)",
      "\u001b[1;32m/home/johan/CMS/TTbar/Plotting.ipynb Cell 8\u001b[0m in \u001b[0;36m<cell line: 2>\u001b[0;34m()\u001b[0m\n\u001b[1;32m      <a href='vscode-notebook-cell:/home/johan/CMS/TTbar/Plotting.ipynb#X10sZmlsZQ%3D%3D?line=4'>5</a>\u001b[0m     df[hist][\u001b[39m'\u001b[39m\u001b[39mData\u001b[39m\u001b[39m'\u001b[39m][sample] \u001b[39m=\u001b[39m files[sample][hist]\u001b[39m.\u001b[39mto_numpy()\n\u001b[1;32m      <a href='vscode-notebook-cell:/home/johan/CMS/TTbar/Plotting.ipynb#X10sZmlsZQ%3D%3D?line=5'>6</a>\u001b[0m \u001b[39melse\u001b[39;00m:\n\u001b[0;32m----> <a href='vscode-notebook-cell:/home/johan/CMS/TTbar/Plotting.ipynb#X10sZmlsZQ%3D%3D?line=6'>7</a>\u001b[0m     df[hist][\u001b[39m'\u001b[39m\u001b[39mMC\u001b[39m\u001b[39m'\u001b[39m][sample] \u001b[39m=\u001b[39m files[sample][hist\u001b[39m.\u001b[39;49mreplace(\u001b[39m\"\u001b[39;49m\u001b[39m;1\u001b[39;49m\u001b[39m\"\u001b[39;49m, \u001b[39m\"\u001b[39;49m\u001b[39m_weighted;1\u001b[39;49m\u001b[39m\"\u001b[39;49m)]\u001b[39m.\u001b[39mto_numpy()\n",
      "File \u001b[0;32m~/anaconda3/envs/shep/lib/python3.10/site-packages/uproot/reading.py:2106\u001b[0m, in \u001b[0;36mReadOnlyDirectory.__getitem__\u001b[0;34m(self, where)\u001b[0m\n\u001b[1;32m   2103\u001b[0m     \u001b[39mreturn\u001b[39;00m step\n\u001b[1;32m   2105\u001b[0m \u001b[39melse\u001b[39;00m:\n\u001b[0;32m-> 2106\u001b[0m     \u001b[39mreturn\u001b[39;00m \u001b[39mself\u001b[39;49m\u001b[39m.\u001b[39;49mkey(where)\u001b[39m.\u001b[39mget()\n",
      "File \u001b[0;32m~/anaconda3/envs/shep/lib/python3.10/site-packages/uproot/reading.py:2060\u001b[0m, in \u001b[0;36mReadOnlyDirectory.key\u001b[0;34m(self, where)\u001b[0m\n\u001b[1;32m   2056\u001b[0m     \u001b[39mraise\u001b[39;00m uproot\u001b[39m.\u001b[39mKeyInFileError(\n\u001b[1;32m   2057\u001b[0m         item, cycle\u001b[39m=\u001b[39m\u001b[39m\"\u001b[39m\u001b[39many\u001b[39m\u001b[39m\"\u001b[39m, keys\u001b[39m=\u001b[39m\u001b[39mself\u001b[39m\u001b[39m.\u001b[39mkeys(), file_path\u001b[39m=\u001b[39m\u001b[39mself\u001b[39m\u001b[39m.\u001b[39m_file\u001b[39m.\u001b[39mfile_path\n\u001b[1;32m   2058\u001b[0m     )\n\u001b[1;32m   2059\u001b[0m \u001b[39melse\u001b[39;00m:\n\u001b[0;32m-> 2060\u001b[0m     \u001b[39mraise\u001b[39;00m uproot\u001b[39m.\u001b[39mKeyInFileError(\n\u001b[1;32m   2061\u001b[0m         item, cycle\u001b[39m=\u001b[39mcycle, keys\u001b[39m=\u001b[39m\u001b[39mself\u001b[39m\u001b[39m.\u001b[39mkeys(), file_path\u001b[39m=\u001b[39m\u001b[39mself\u001b[39m\u001b[39m.\u001b[39m_file\u001b[39m.\u001b[39mfile_path\n\u001b[1;32m   2062\u001b[0m     )\n",
      "\u001b[0;31mKeyInFileError\u001b[0m: not found: 'tout_weighted' with cycle 1\n\n    Available keys: 'weights;1', 'tout;1', 'h_Muon_pt_weighted;1', 'h_Muon_eta_weighted;1', 'h_Electron_pt_weighted;1', 'h_Electron_eta_weighted;1', 'Run_out;1', 'h_Muon_eta;1', 'h_Muon_pt;1', 'h_leading_lepton_pt_weighted;1'...\n\nin file ./Python_Analysis/output/final_mc/W.root"
     ]
    }
   ],
   "source": [
    "df = defaultdict(lambda: defaultdict(lambda: defaultdict(list)))\n",
    "for sample in files:\n",
    "    for hist in data_hists:\n",
    "        if sample == 'Data':\n",
    "            df[hist]['Data'][sample] = files[sample][hist].to_numpy()\n",
    "        else:\n",
    "            df[hist]['MC'][sample] = files[sample][hist.replace(\";1\", \"_weighted;1\")].to_numpy()\n"
   ]
  },
  {
   "cell_type": "code",
   "execution_count": 22,
   "metadata": {},
   "outputs": [
    {
     "data": {
      "text/plain": [
       "{'tout;1': 'TTree',\n",
       " 'h_Muon_pt_weighted;1': 'TH1D',\n",
       " 'h_Muon_eta_weighted;1': 'TH1D',\n",
       " 'h_Electron_pt_weighted;1': 'TH1D',\n",
       " 'h_Muon_Electron_invariant_mass_weighted;1': 'TH1D',\n",
       " 'h_leading_lepton_pt_weighted;1': 'TH1D',\n",
       " 'h_Muon_pt;1': 'TH1D',\n",
       " 'h_Muon_eta;1': 'TH1D',\n",
       " 'h_Electron_pt;1': 'TH1D',\n",
       " 'h_Electron_eta;1': 'TH1D',\n",
       " 'h_Muon_Electron_invariant_mass;1': 'TH1D',\n",
       " 'h_leading_lepton_pt;1': 'TH1D'}"
      ]
     },
     "execution_count": 22,
     "metadata": {},
     "output_type": "execute_result"
    }
   ],
   "source": [
    "files['Wj'].classnames()"
   ]
  },
  {
   "cell_type": "code",
   "execution_count": 38,
   "metadata": {},
   "outputs": [],
   "source": [
    "def stacked_histo(n_data, n_mc: dict, title=None, xlabel=r\"$p_{\\mathrm{T}}$ [GeV]\", savepath=None) -> None:\n",
    "    fig, axs = plt.subplots(2,1, gridspec_kw={'height_ratios':[3,1]})\n",
    "    if title:\n",
    "        fig.suptitle(f\"{title}\")\n",
    "    bottom = np.zeros(shape=n_data[0].shape)\n",
    "    # sort n_mc by max\n",
    "    n_mc_sorted = {key: value for key, value in sorted(n_mc.items(), key=lambda x: x[1][0].max())}\n",
    "    for sample in n_mc_sorted:\n",
    "        centers = (n_mc[sample][1][1:]+n_mc[sample][1][:-1])/2.\n",
    "        width = centers[1]-centers[0]\n",
    "        axs[0].bar(centers,n_mc[sample][0], width=width,bottom=bottom, align='center', label=sample)\n",
    "        bottom+=n_mc[sample][0]\n",
    "    centers_data = (n_data[1][1:]+n_data[1][:-1])/2.\n",
    "    axs[0].errorbar(centers_data, n_data[0], yerr=np.sqrt(n_data[0]), fmt='.',label='data')\n",
    "    axs[0].legend()\n",
    "    axs[0].set_ylabel(\"N\")\n",
    "    xmin, xmax = axs[0].get_xbound()\n",
    "    summed_mc = np.zeros(shape=n_mc[sample][0].shape) \n",
    "    for sample in n_mc:\n",
    "        summed_mc+= n_mc[sample][0]\n",
    "    ratio = n_data[0]/summed_mc\n",
    "    data_err, mc_err = np.sqrt(n_data[0]), np.sqrt(summed_mc)\n",
    "    ratio_err = np.sqrt((data_err/summed_mc)**2+(n_data[0]*mc_err/(summed_mc**2))**2)\n",
    "    axs[1].errorbar(centers_data, ratio, yerr=ratio_err, fmt='.', label = 'ratio')\n",
    "    axs[1].set_xbound(xmin,xmax)\n",
    "    axs[1].axhline(1, color='k', linestyle='--')\n",
    "    axs[1].set_xlabel(f\"{xlabel}\")\n",
    "    axs[1].set_ylabel(f\"Ratio\")\n",
    "    delta = np.abs(ratio-1)\n",
    "    axs[1].set_ylim([1-(np.nanmax(delta)+0.1),1+(np.nanmax(delta)+0.1)])\n",
    "    #axs[1].set_ybound([0.5,1.5])\n",
    "    if savepath:\n",
    "        plt.tight_layout()\n",
    "        plt.savefig(f\"{savepath}\")\n",
    "    plt.show()"
   ]
  },
  {
   "cell_type": "code",
   "execution_count": 39,
   "metadata": {},
   "outputs": [
    {
     "name": "stderr",
     "output_type": "stream",
     "text": [
      "/tmp/ipykernel_44268/3404996798.py:21: RuntimeWarning: invalid value encountered in divide\n",
      "  ratio = n_data[0]/summed_mc\n",
      "/tmp/ipykernel_44268/3404996798.py:23: RuntimeWarning: invalid value encountered in divide\n",
      "  ratio_err = np.sqrt((data_err/summed_mc)**2+(n_data[0]*mc_err/(summed_mc**2))**2)\n"
     ]
    },
    {
     "data": {
      "image/png": "[encoded data removed]",
      "text/plain": [
       "<Figure size 432x288 with 2 Axes>"
      ]
     },
     "metadata": {
      "needs_background": "light"
     },
     "output_type": "display_data"
    },
    {
     "name": "stderr",
     "output_type": "stream",
     "text": [
      "/tmp/ipykernel_44268/3404996798.py:21: RuntimeWarning: invalid value encountered in divide\n",
      "  ratio = n_data[0]/summed_mc\n",
      "/tmp/ipykernel_44268/3404996798.py:23: RuntimeWarning: invalid value encountered in divide\n",
      "  ratio_err = np.sqrt((data_err/summed_mc)**2+(n_data[0]*mc_err/(summed_mc**2))**2)\n"
     ]
    },
    {
     "data": {
      "image/png": "[encoded data removed]",
      "text/plain": [
       "<Figure size 432x288 with 2 Axes>"
      ]
     },
     "metadata": {
      "needs_background": "light"
     },
     "output_type": "display_data"
    },
    {
     "name": "stderr",
     "output_type": "stream",
     "text": [
      "/tmp/ipykernel_44268/3404996798.py:21: RuntimeWarning: invalid value encountered in divide\n",
      "  ratio = n_data[0]/summed_mc\n",
      "/tmp/ipykernel_44268/3404996798.py:23: RuntimeWarning: invalid value encountered in divide\n",
      "  ratio_err = np.sqrt((data_err/summed_mc)**2+(n_data[0]*mc_err/(summed_mc**2))**2)\n"
     ]
    },
    {
     "data": {
      "image/png": "[encoded data removed]",
      "text/plain": [
       "<Figure size 432x288 with 2 Axes>"
      ]
     },
     "metadata": {
      "needs_background": "light"
     },
     "output_type": "display_data"
    },
    {
     "data": {
      "image/png": "[encoded data removed]",
      "text/plain": [
       "<Figure size 432x288 with 2 Axes>"
      ]
     },
     "metadata": {
      "needs_background": "light"
     },
     "output_type": "display_data"
    },
    {
     "name": "stderr",
     "output_type": "stream",
     "text": [
      "/tmp/ipykernel_44268/3404996798.py:21: RuntimeWarning: invalid value encountered in divide\n",
      "  ratio = n_data[0]/summed_mc\n",
      "/tmp/ipykernel_44268/3404996798.py:23: RuntimeWarning: invalid value encountered in divide\n",
      "  ratio_err = np.sqrt((data_err/summed_mc)**2+(n_data[0]*mc_err/(summed_mc**2))**2)\n"
     ]
    },
    {
     "data": {
      "image/png": "[encoded data removed]",
      "text/plain": [
       "<Figure size 432x288 with 2 Axes>"
      ]
     },
     "metadata": {
      "needs_background": "light"
     },
     "output_type": "display_data"
    }
   ],
   "source": [
    "for hist in df:\n",
    "    n_mc = df[hist]['MC']\n",
    "    n_data = df[hist]['Data']['Data']\n",
    "    stacked_histo(n_data, n_mc, savepath=f\"./{hist}.pdf\")"
   ]
  },
  {
   "cell_type": "code",
   "execution_count": 47,
   "metadata": {},
   "outputs": [
    {
     "name": "stdout",
     "output_type": "stream",
     "text": [
      "name                 | typename                 | interpretation                \n",
      "---------------------+--------------------------+-------------------------------\n",
      "Muon_pt              | double                   | AsDtype('>f8')\n",
      "Muon_eta             | double                   | AsDtype('>f8')\n",
      "Muon_phi             | double                   | AsDtype('>f8')\n",
      "Muon_mass            | double                   | AsDtype('>f8')\n",
      "Electron_pt          | double                   | AsDtype('>f8')\n",
      "Electron_eta         | double                   | AsDtype('>f8')\n",
      "Electron_phi         | double                   | AsDtype('>f8')\n",
      "Electron_mass        | double                   | AsDtype('>f8')\n",
      "Jet_pt               | double                   | AsDtype('>f8')\n",
      "Jet_eta              | double                   | AsDtype('>f8')\n",
      "Jet_phi              | double                   | AsDtype('>f8')\n",
      "Jet_mass             | double                   | AsDtype('>f8')\n",
      "mu_e_inv_mass        | double                   | AsDtype('>f8')\n",
      "leading_lepton_pt    | double                   | AsDtype('>f8')\n",
      "muon_corrections     | double                   | AsDtype('>f8')\n",
      "electron_corrections | double                   | AsDtype('>f8')\n",
      "pu_corrections       | double                   | AsDtype('>f8')\n",
      "b_tag_corrections    | double                   | AsDtype('>f8')\n",
      "genWeight            | double                   | AsDtype('>f8')\n",
      "weight               | double                   | AsDtype('>f8')\n",
      "N_jet_loose          | int32_t                  | AsDtype('>i4')\n",
      "N_jet_tight          | int32_t                  | AsDtype('>i4')\n",
      "N_jet_medium         | int32_t                  | AsDtype('>i4')\n",
      "N_gen                | int32_t                  | AsDtype('>i4')\n",
      "Sum_w                | double                   | AsDtype('>f8')\n"
     ]
    }
   ],
   "source": [
    "files['Diboson']['tout'].show()"
   ]
  },
  {
   "cell_type": "code",
   "execution_count": 56,
   "metadata": {},
   "outputs": [
    {
     "name": "stdout",
     "output_type": "stream",
     "text": [
      "[4.83e+08, 2.57e+09]\n",
      "[1.44e+07, 1.75e+07, 1.98e+07, 1.99e+07, ... 4.15e+08, 4.16e+08, 4.16e+08, 4.16e+08]\n",
      "[3.32e+04, 6.67e+04, 9.86e+04, 1.67e+05, ... 3.02e+07, 3.63e+07, 3.93e+07, 4.82e+07]\n",
      "[2.16e+05, 2.17e+05, 4.31e+05, 6.49e+05, ... 1e+08, 1e+08, 1.01e+08, 1.01e+08]\n"
     ]
    }
   ],
   "source": [
    "for i in ['Wj', 'TTbkgd', 'ST', 'Signal']:\n",
    "    print(np.unique(files[i]['tout']['Sum_w'].array()))"
   ]
  },
  {
   "cell_type": "code",
   "execution_count": null,
   "metadata": {},
   "outputs": [
    {
     "data": {
      "text/plain": [
       "<Array [2.78e+08, 3.24e+08, ... 3.19e+08] type='105156 * float64'>"
      ]
     },
     "execution_count": 45,
     "metadata": {},
     "output_type": "execute_result"
    }
   ],
   "source": [
    "files['Signal']['tout']['weight'].array()"
   ]
  },
  {
   "cell_type": "code",
   "execution_count": null,
   "metadata": {},
   "outputs": [],
   "source": []
  }
 ],
 "metadata": {
  "kernelspec": {
   "display_name": "Python 3.10.5 ('base')",
   "language": "python",
   "name": "python3"
  },
  "language_info": {
   "codemirror_mode": {
    "name": "ipython",
    "version": 3
   },
   "file_extension": ".py",
   "mimetype": "text/x-python",
   "name": "python",
   "nbconvert_exporter": "python",
   "pygments_lexer": "ipython3",
   "version": "3.10.5"
  },
  "orig_nbformat": 4,
  "vscode": {
   "interpreter": {
    "hash": "303584f01def8d88bfb4951c86434878bb18af65d765a659218fdd4053050f80"
   }
  }
 },
 "nbformat": 4,
 "nbformat_minor": 2
}
