{
 "cells": [
  {
   "cell_type": "code",
   "execution_count": 26,
   "metadata": {},
   "outputs": [],
   "source": [
    "import uproot\n",
    "import numpy as np\n",
    "import awkward as ak\n",
    "\n",
    "import vector\n",
    "\n",
    "import hist\n",
    "\n",
    "def spacial_invert(vec):\n",
    "    return -vec.to_Vector3D().to_Vector4D()+vector.obj(px=0, py=0, pz=0, E=vec.E)\n",
    "\n"
   ]
  },
  {
   "cell_type": "code",
   "execution_count": 27,
   "metadata": {},
   "outputs": [],
   "source": [
    "filename = \"./input/MC/Signal/019426EE-3D50-1249-B266-F6DBA0AFE3B5.root\"\n",
    "\n",
    "file = uproot.open(filename)"
   ]
  },
  {
   "cell_type": "code",
   "execution_count": 28,
   "metadata": {},
   "outputs": [
    {
     "data": {
      "text/plain": [
       "{'tag;1': 'TObjString',\n",
       " 'Events;1': 'TTree',\n",
       " 'LuminosityBlocks;1': 'TTree',\n",
       " 'Runs;1': 'TTree',\n",
       " 'MetaData;1': 'TTree',\n",
       " 'ParameterSets;1': 'TTree'}"
      ]
     },
     "execution_count": 28,
     "metadata": {},
     "output_type": "execute_result"
    }
   ],
   "source": [
    "file.classnames()"
   ]
  },
  {
   "cell_type": "code",
   "execution_count": 29,
   "metadata": {},
   "outputs": [],
   "source": [
    "tree = file['Events']"
   ]
  },
  {
   "cell_type": "code",
   "execution_count": 30,
   "metadata": {},
   "outputs": [],
   "source": [
    "filter_names = ['/(Electron|Muon|Jet)_(pt|eta|phi|mass)/',\n",
    "                '/n(Muon|Electron|Jet)/',\n",
    "                '/(Electron|Muon)_charge/',\n",
    "                '/Muon_(triggerIdLoose)/',\n",
    "                '/Muon_(pfRelIso04_all|tightId)/',\n",
    "                '/HLT_(IsoMu24|Ele32_WPTight_Gsf)/',\n",
    "                'Electron_mvaFall17V2Iso_WP90',\n",
    "                '/Jet_(btagDeepB|btagDeepFlavB)/',\n",
    "                'genWeight']\n",
    "mc_filter_names = ['/(Electron|Muon)_genPart(Idx|Flav)/',\n",
    "                '/GenPart_(pdgId|genPartIdxMother)/',\n",
    "                'nGenPart']"
   ]
  },
  {
   "cell_type": "code",
   "execution_count": 32,
   "metadata": {},
   "outputs": [],
   "source": [
    "\n",
    "outfile = uproot.recreate('outfile.root')\n",
    "outfile.mktree('tout', {\n",
    "    \"N_jet_loose\": \"var*int64\",\n",
    "    \"N_jet_medium\": \"var*int64\",\n",
    "    \"N_jet_tight\": \"var*int64\",\n",
    "})\n",
    "## define histograms\n",
    "\n",
    "h_Muon_pt = hist.Hist(hist.axis.Regular(bins=100,start=0,stop=200,name=\"h_Muon_pt\"))\n",
    "h_Muon_eta = hist.Hist(hist.axis.Regular(bins=100,start=-5,stop=5,name=\"h_Muon_eta\"))\n",
    "h_Electron_pt = hist.Hist(hist.axis.Regular(bins=100,start=0,stop=200, name=\"h_Electron_pt\",)) \n",
    "h_Electron_eta = hist.Hist(hist.axis.Regular(bins=100,start=-5,stop=5, name=\"h_Electron_eta\",))\n",
    "\n",
    "h_Muon_pt_weighted = hist.Hist(hist.axis.Regular(bins=100,start=0,stop=200,name=\"h_Muon_pt_weighted\"))\n",
    "h_Muon_eta_weighted = hist.Hist(hist.axis.Regular(bins=100,start=-5,stop=5,name=\"h_Muon_eta_weighted\"))\n",
    "h_Electron_pt_weighted = hist.Hist(hist.axis.Regular(bins=100,start=0,stop=200,name=\"h_Electron_pt_weighted\"))\n",
    "h_Electron_eta_weighted = hist.Hist(hist.axis.Regular(bins=100,start=-5,stop=5,name=\"h_Electron_eta_weighted\"))\n",
    "\n",
    "h_Muon_Electron_invariant_mass = hist.Hist(hist.axis.Regular(bins=100,start=12,stop= 412,name=\"Muon_Electron_invariant_mass\"))\n",
    "h_Muon_Electron_invariant_mass_weighted = hist.Hist(hist.axis.Regular(bins=100,start=12,stop= 412,name=\"Muon_Electron_invariant_mass_weighted\"))\n",
    "\n",
    "h_leading_lepton_pt = hist.Hist(hist.axis.Regular(bins=45,start=20,stop=200,name=\"leading_lepton_pt\"))\n",
    "h_leading_lepton_pt_weighted = hist.Hist(hist.axis.Regular(bins=45,start=20,stop=200,name=\"leading_lepton_pt_weighted\"))\n"
   ]
  },
  {
   "cell_type": "code",
   "execution_count": 8,
   "metadata": {},
   "outputs": [],
   "source": [
    "def skimming(mc_flag, lumi=None, xs=None):\n",
    "    # ^ is xor in python\n",
    "    trigger_cut = \"HLT_IsoMu24 | HLT_Ele32_WPTight_Gsf\"\n",
    "    btag_deepflav_wp = {'loose': 0.0490, 'medium': 0.2783, 'tight': 0.71}\n",
    "    # get the sumW from the runs tree\n",
    "    if mc_flag:\n",
    "        n_gen = file['Runs']['genEventCount'].array()\n",
    "        Sum_W = file['Runs']['genEventSumw'].array()\n",
    "    for events in tree.iterate(\n",
    "        filter_name=filter_names+mc_filter_names,cut = trigger_cut,\n",
    "        entry_stop=100000):\n",
    "        ## apply muon and electron cuts \n",
    "        m_pt_cut = events['Muon_pt']>27\n",
    "        m_eta_cut = np.abs(events['Muon_eta'])<2.4\n",
    "        m_iso_cut = events['Muon_pfRelIso04_all']<0.15\n",
    "        m_tight_cut = events[\"Muon_tightId\"]\n",
    "\n",
    "        muon_cuts = (m_pt_cut) &(m_eta_cut) & (m_iso_cut)&m_tight_cut\n",
    "        muon_idxs = ak.local_index(muon_cuts)[muon_cuts]\n",
    "        muon_idxs = muon_idxs[ak.num(muon_idxs)>0]\n",
    "        events = events[ak.any(muon_cuts, axis=1)]\n",
    "        events['Muon_Idx'] = muon_idxs\n",
    "\n",
    "        e_pt_cut =  events['Electron_pt']>35\n",
    "        e_eta_cut = np.abs(events['Electron_eta'])<2.4\n",
    "        e_iso_cut =  events[\"Electron_mvaFall17V2Iso_WP90\"]\n",
    "\n",
    "        electron_cuts = (e_pt_cut)&(e_eta_cut)&(e_iso_cut)\n",
    "        electron_idxs = ak.local_index(electron_cuts)[electron_cuts]\n",
    "        electron_idxs = electron_idxs[ak.num(electron_idxs)>0]\n",
    "        events = events[ak.any(electron_cuts, axis=1)]\n",
    "        events[\"Electron_Idx\"] = electron_idxs\n",
    "\n",
    "        b_cut = events['Jet_btagDeepFlavB']>btag_deepflav_wp['medium']\n",
    "        events = events[ak.any(b_cut, axis=1)]\n",
    "        # make sure that muon and electron are of opposite charge\n",
    "        # this cut is applied after the others because you can only \n",
    "        # multiply two arrays if they both have at least one entry along the first dim\n",
    "        # the pt cuts make sure of this: we only have events left where we have \n",
    "        # at least one electron and at leats one muon\n",
    "        charge_cut = (events['Muon_charge'][:, 0] * events['Electron_charge'][:, 0]) < 0\n",
    "        events = events[charge_cut]\n",
    "        # create four-vectors\n",
    "        # objects are ordered by pt so we take index 0 for highest pt\n",
    "        mu_pt = events['Muon_pt', events['Muon_Idx']]\n",
    "        mu_eta = events['Muon_eta', events['Muon_Idx']]\n",
    "        mu_phi = events['Muon_phi', events['Muon_Idx']]\n",
    "        mu_mass = events['Muon_mass', events['Muon_Idx']]\n",
    "        electron_pt = events['Electron_pt', events['Electron_Idx']]\n",
    "        electron_eta = events['Electron_eta', events['Electron_Idx']]\n",
    "        electron_phi = events['Electron_phi', events['Electron_Idx']]\n",
    "        electron_mass = events['Electron_mass', events['Electron_Idx']]\n",
    "        muon_4d = vector.array({'pt':mu_pt[:, 0],\n",
    "                                'eta': mu_eta[:, 0], \n",
    "                                'phi':mu_phi[:, 0],\n",
    "                                'mass': mu_mass[:, 0]})\n",
    "        electron_4d = vector.array({'pt':electron_pt[:, 0],\n",
    "                                    'eta': electron_eta[:, 0],\n",
    "                                    'phi':electron_phi[:, 0],\n",
    "                                    'mass': electron_mass[:, 0]})\n",
    "        # calculate the deltaR\n",
    "        # cut out events with deltaR < 0.4\n",
    "        delta_r_cut = muon_4d.deltaR(electron_4d) > 0.4\n",
    "        muon_4d = muon_4d[delta_r_cut]; electron_4d=electron_4d[delta_r_cut]\n",
    "        events = events[delta_r_cut]\n",
    "        # how many jets would we have if we took other wp's?\n",
    "        N_jet_loose = ak.sum(events['Jet_btagDeepFlavB']>btag_deepflav_wp['loose'], axis=1)\n",
    "        N_jet_medium = ak.sum(events['Jet_btagDeepFlavB']>btag_deepflav_wp['medium'], axis=1)\n",
    "        N_jet_tight = ak.sum(events['Jet_btagDeepFlavB']>btag_deepflav_wp['tight'], axis=1)\n",
    "        # first drop events where there is no jet that passes the wp\n",
    "        b_tag_medium_cut = ak.any(events['Jet_btagDeepFlavB']>btag_deepflav_wp['medium'], axis=1)\n",
    "        events = events[b_tag_medium_cut]\n",
    "        # now our event has at least one jet passing the wp\n",
    "        # event could look like this: [not_passing, not_passing, passing, not_passing, passing]\n",
    "        # we want the first one that passes (index = 2)\n",
    "\n",
    "\n",
    "        ## unused right now ##\n",
    "\n",
    "        #b_tag_medium_cut = events['Jet_btagDeepFlavB']>btag_deepflav_wp['medium']\n",
    "        #jet_4d = vector.array({'pt':events['Jet_pt', b_tag_medium_cut][:, 0],\n",
    "                                #'eta': events['Jet_eta', b_tag_medium_cut][:, 0], \n",
    "                                #'phi':events['Jet_phi', b_tag_medium_cut][:, 0],\n",
    "                                #'mass': events['Jet_mass', b_tag_medium_cut][:, 0]})\n",
    "        #opposite_jet = spacial_invert(jet_4d)\n",
    "        #dR_mu_jet = muon_4d.deltaR(jet_4d)\n",
    "        #dR_e_jet = electron_4d.deltaR(jet_4d)\n",
    "        #dR_mu_e = muon_4d.deltaR(electron_4d)\n",
    "\n",
    "        if mc_flag:\n",
    "            weight = events['genWeight']*lumi*xs\n",
    "\n",
    "\n",
    "        # fill the histograms \n",
    "\n",
    "\n",
    "\n"
   ]
  },
  {
   "cell_type": "code",
   "execution_count": 51,
   "metadata": {},
   "outputs": [
    {
     "data": {
      "text/plain": [
       "['NUM_GlobalMuons_DEN_genTracks',\n",
       " 'NUM_HighPtID_DEN_TrackerMuons',\n",
       " 'NUM_HighPtID_DEN_genTracks',\n",
       " 'NUM_IsoMu24_DEN_CutBasedIdTight_and_PFIsoTight',\n",
       " 'NUM_LooseID_DEN_TrackerMuons',\n",
       " 'NUM_LooseID_DEN_genTracks',\n",
       " 'NUM_LooseRelIso_DEN_LooseID',\n",
       " 'NUM_LooseRelIso_DEN_MediumID',\n",
       " 'NUM_LooseRelIso_DEN_MediumPromptID',\n",
       " 'NUM_LooseRelIso_DEN_TightIDandIPCut',\n",
       " 'NUM_LooseRelTkIso_DEN_HighPtIDandIPCut',\n",
       " 'NUM_LooseRelTkIso_DEN_TrkHighPtIDandIPCut',\n",
       " 'NUM_MediumID_DEN_TrackerMuons',\n",
       " 'NUM_MediumID_DEN_genTracks',\n",
       " 'NUM_MediumPromptID_DEN_TrackerMuons',\n",
       " 'NUM_MediumPromptID_DEN_genTracks',\n",
       " 'NUM_Mu50_or_OldMu100_or_TkMu100_DEN_CutBasedIdGlobalHighPt_and_TkIsoLoose',\n",
       " 'NUM_SoftID_DEN_TrackerMuons',\n",
       " 'NUM_SoftID_DEN_genTracks',\n",
       " 'NUM_TightID_DEN_TrackerMuons',\n",
       " 'NUM_TightID_DEN_genTracks',\n",
       " 'NUM_TightRelIso_DEN_MediumID',\n",
       " 'NUM_TightRelIso_DEN_MediumPromptID',\n",
       " 'NUM_TightRelIso_DEN_TightIDandIPCut',\n",
       " 'NUM_TightRelTkIso_DEN_HighPtIDandIPCut',\n",
       " 'NUM_TightRelTkIso_DEN_TrkHighPtIDandIPCut',\n",
       " 'NUM_TrackerMuons_DEN_genTracks',\n",
       " 'NUM_TrkHighPtID_DEN_TrackerMuons',\n",
       " 'NUM_TrkHighPtID_DEN_genTracks']"
      ]
     },
     "execution_count": 51,
     "metadata": {},
     "output_type": "execute_result"
    }
   ],
   "source": [
    "\n",
    "correction_file = \"./corrections/muon_Z.json.gz\"\n",
    "if correction_file.endswith(\".json.gz\"):\n",
    "    import gzip\n",
    "    with gzip.open(correction_file, 'rt') as file:\n",
    "        data = file.read().strip()\n",
    "        ceval = correctionlib.CorrectionSet.from_string(data)\n",
    "else:\n",
    "    ceval = correctionlib.CorrectonSet.from_file(correction_file)\n",
    "\n",
    "\n",
    "list(ceval.keys())"
   ]
  },
  {
   "cell_type": "code",
   "execution_count": 52,
   "metadata": {},
   "outputs": [
    {
     "name": "stdout",
     "output_type": "stream",
     "text": [
      "   Input year (string): year/scenario: example 2016preVFP, 2017 etc\n",
      "   Input abseta (real): Probe abseta\n",
      "   Input pt (real): Probe pt\n",
      "   Input ValType (string): sf or syst (currently 'sf' is nominal, and 'systup' and 'systdown' are up/down variations with total stat+syst uncertainties. Individual systs are also available (in these cases syst only, not sf +/- syst)\n"
     ]
    }
   ],
   "source": [
    "for ix in ceval['NUM_IsoMu24_DEN_CutBasedIdTight_and_PFIsoTight'].inputs:\n",
    "    print(f\"   Input {ix.name} ({ix.type}): {ix.description}\")"
   ]
  },
  {
   "cell_type": "code",
   "execution_count": 54,
   "metadata": {},
   "outputs": [
    {
     "data": {
      "text/plain": [
       "<Array [77.7, 29, 111, ... 64.6, 38.5, 35.9] type='6071 * float32'>"
      ]
     },
     "execution_count": 54,
     "metadata": {},
     "output_type": "execute_result"
    }
   ],
   "source": [
    "events['Muon_pt'][:, 0]"
   ]
  },
  {
   "cell_type": "code",
   "execution_count": 61,
   "metadata": {},
   "outputs": [
    {
     "data": {
      "text/plain": [
       "array([0.97903552, 0.97308885, 0.97903552, ..., 0.97903552, 1.00731044,\n",
       "       1.00731044])"
      ]
     },
     "execution_count": 61,
     "metadata": {},
     "output_type": "execute_result"
    }
   ],
   "source": [
    "ceval['NUM_IsoMu24_DEN_CutBasedIdTight_and_PFIsoTight'].evaluate('2018_UL',np.abs(events['Muon_eta'][:, 0]), events['Muon_pt'][:, 0], 'sf')"
   ]
  },
  {
   "cell_type": "code",
   "execution_count": 42,
   "metadata": {},
   "outputs": [],
   "source": [
    "import correctionlib\n",
    "correction_file = \"./corrections/puWeights.json.gz\"\n",
    "if correction_file.endswith(\".json.gz\"):\n",
    "    import gzip\n",
    "    with gzip.open(correction_file, 'rt') as file:\n",
    "        data = file.read().strip()\n",
    "        ceval = correctionlib.CorrectionSet.from_string(data)\n",
    "else:\n",
    "    ceval = correctionlib.CorrectonSet.from_file(correction_file)"
   ]
  },
  {
   "cell_type": "code",
   "execution_count": 43,
   "metadata": {},
   "outputs": [
    {
     "data": {
      "text/plain": [
       "['Collisions18_UltraLegacy_goldenJSON']"
      ]
     },
     "execution_count": 43,
     "metadata": {},
     "output_type": "execute_result"
    }
   ],
   "source": [
    "list(ceval.keys())"
   ]
  },
  {
   "cell_type": "code",
   "execution_count": 44,
   "metadata": {},
   "outputs": [
    {
     "name": "stdout",
     "output_type": "stream",
     "text": [
      "Correction Collisions18_UltraLegacy_goldenJSON has 2 inputs\n",
      "   Input NumTrueInteractions (real): Number of true interactions\n",
      "   Input weights (string): nominal, up, or down\n"
     ]
    }
   ],
   "source": [
    "for corr in ceval.values():\n",
    "    print(f\"Correction {corr.name} has {len(corr.inputs)} inputs\")\n",
    "    for ix in corr.inputs:\n",
    "        print(f\"   Input {ix.name} ({ix.type}): {ix.description}\")"
   ]
  },
  {
   "cell_type": "code",
   "execution_count": 49,
   "metadata": {},
   "outputs": [
    {
     "data": {
      "text/plain": [
       "<Array [20, 25, 30, 33, 4, ... 34, 44, 40, 41] type='1386000 * float32'>"
      ]
     },
     "execution_count": 49,
     "metadata": {},
     "output_type": "execute_result"
    }
   ],
   "source": [
    "tree['Pileup_nTrueInt'].array()"
   ]
  },
  {
   "cell_type": "code",
   "execution_count": 50,
   "metadata": {},
   "outputs": [
    {
     "data": {
      "text/plain": [
       "array([0.94641737, 0.98739476, 0.99822759, ..., 1.08183655, 1.03718   ,\n",
       "       1.04711103])"
      ]
     },
     "execution_count": 50,
     "metadata": {},
     "output_type": "execute_result"
    }
   ],
   "source": [
    "ceval['Collisions18_UltraLegacy_goldenJSON'].evaluate(tree['Pileup_nTrueInt'].array(), \"nominal\")"
   ]
  },
  {
   "cell_type": "code",
   "execution_count": 9,
   "metadata": {},
   "outputs": [
    {
     "data": {
      "text/plain": [
       "{'tag;1': 'TObjString',\n",
       " 'Events;1': 'TTree',\n",
       " 'LuminosityBlocks;1': 'TTree',\n",
       " 'Runs;1': 'TTree',\n",
       " 'MetaData;1': 'TTree',\n",
       " 'ParameterSets;1': 'TTree'}"
      ]
     },
     "execution_count": 9,
     "metadata": {},
     "output_type": "execute_result"
    }
   ],
   "source": [
    "file.classnames()"
   ]
  },
  {
   "cell_type": "code",
   "execution_count": 20,
   "metadata": {},
   "outputs": [
    {
     "name": "stdout",
     "output_type": "stream",
     "text": [
      "name                 | typename                 | interpretation                \n",
      "---------------------+--------------------------+-------------------------------\n",
      "run                  | uint32_t                 | AsDtype('>u4')\n",
      "genEventCount        | int64_t                  | AsDtype('>i8')\n",
      "genEventSumw         | double                   | AsDtype('>f8')\n",
      "genEventSumw2        | double                   | AsDtype('>f8')\n",
      "nLHEScaleSumw        | uint32_t                 | AsDtype('>u4')\n",
      "LHEScaleSumw         | double[]                 | AsJagged(AsDtype('>f8'))\n",
      "nLHEPdfSumw          | uint32_t                 | AsDtype('>u4')\n",
      "LHEPdfSumw           | double[]                 | AsJagged(AsDtype('>f8'))\n"
     ]
    }
   ],
   "source": [
    "file['Runs'].show()"
   ]
  },
  {
   "cell_type": "code",
   "execution_count": 25,
   "metadata": {},
   "outputs": [
    {
     "data": {
      "text/plain": [
       "<Array [1386000] type='1 * int64'>"
      ]
     },
     "execution_count": 25,
     "metadata": {},
     "output_type": "execute_result"
    }
   ],
   "source": [
    "file['Runs']['genEventCount'].array()"
   ]
  },
  {
   "cell_type": "code",
   "execution_count": 23,
   "metadata": {},
   "outputs": [
    {
     "data": {
      "text/plain": [
       "(<Array [9.99e+07] type='1 * float64'>, <Array [7.33e+09] type='1 * float64'>)"
      ]
     },
     "execution_count": 23,
     "metadata": {},
     "output_type": "execute_result"
    }
   ],
   "source": [
    "file['Runs']['genEventSumw'].array(), file['Runs']['genEventSumw2'].array()"
   ]
  },
  {
   "cell_type": "code",
   "execution_count": null,
   "metadata": {},
   "outputs": [],
   "source": [
    "def is_from_pdg(pdg_id, gen_idx, pdg_ids, mother_idxs):\n",
    "    \"\"\"\n",
    "    Function to check if a generated daughter \n",
    "    particle originates from a mother particle \n",
    "\n",
    "    Parameters\n",
    "    ----------\n",
    "    pdg_id: (int) PDGId of the mother particle,\n",
    "    gen_idx: (int) idx of the daughter particle,\n",
    "    pdg_ids: array of pdg_ids,\n",
    "    mother_idxs: array containing indices of where the\n",
    "                 mother particle is located.\n",
    "\n",
    "    Returns\n",
    "    -------\n",
    "    bool: is_from_pdg\n",
    "    \"\"\"\n",
    "    # if a muon is misidentified it may have an idx of -1\n",
    "    if gen_idx <= 0:\n",
    "        return False\n",
    "    mother_idx = mother_idxs[gen_idx]\n",
    "    if pdg_ids[mother_idx] == pdg_id:\n",
    "        return True\n",
    "    elif pdg_ids[mother_idx] == pdg_ids[gen_idx]:\n",
    "        return is_from_pdg(pdg_id, mother_idx, pdg_ids, mother_idxs)\n",
    "    else:\n",
    "        return False"
   ]
  },
  {
   "cell_type": "code",
   "execution_count": 47,
   "metadata": {},
   "outputs": [
    {
     "name": "stdout",
     "output_type": "stream",
     "text": [
      "name                 | typename                 | interpretation                \n",
      "---------------------+--------------------------+-------------------------------\n",
      "Pileup_nPU           | int32_t                  | AsDtype('>i4')\n"
     ]
    }
   ],
   "source": [
    "tree.show(\"*PU*\")"
   ]
  },
  {
   "cell_type": "code",
   "execution_count": 89,
   "metadata": {},
   "outputs": [
    {
     "data": {
      "text/plain": [
       "<Array [[True], [], ... [True, False]] type='540 * var * bool'>"
      ]
     },
     "execution_count": 89,
     "metadata": {},
     "output_type": "execute_result"
    }
   ],
   "source": [
    "events['Muon_tightId']"
   ]
  },
  {
   "cell_type": "code",
   "execution_count": null,
   "metadata": {},
   "outputs": [],
   "source": [
    "events['Jet_']"
   ]
  }
 ],
 "metadata": {
  "kernelspec": {
   "display_name": "Python 3.10.5 ('shep')",
   "language": "python",
   "name": "python3"
  },
  "language_info": {
   "codemirror_mode": {
    "name": "ipython",
    "version": 3
   },
   "file_extension": ".py",
   "mimetype": "text/x-python",
   "name": "python",
   "nbconvert_exporter": "python",
   "pygments_lexer": "ipython3",
   "version": "3.10.5"
  },
  "orig_nbformat": 4,
  "vscode": {
   "interpreter": {
    "hash": "303584f01def8d88bfb4951c86434878bb18af65d765a659218fdd4053050f80"
   }
  }
 },
 "nbformat": 4,
 "nbformat_minor": 2
}
