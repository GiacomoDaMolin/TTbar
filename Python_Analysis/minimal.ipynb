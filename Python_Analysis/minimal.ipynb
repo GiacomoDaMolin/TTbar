{
 "cells": [
  {
   "cell_type": "code",
   "execution_count": 2,
   "metadata": {},
   "outputs": [],
   "source": [
    "import uproot\n",
    "import numpy as np\n",
    "import awkward as ak\n"
   ]
  },
  {
   "cell_type": "code",
   "execution_count": 3,
   "metadata": {},
   "outputs": [],
   "source": [
    "def skimming(filename, ofilename, xs=None, lumi=None, mc_flag=False,):\n",
    "    outfile = uproot.recreate(ofilename)\n",
    "    out_dict = {'Muon_pt': np.float64,}\n",
    "    outfile.mktree(\"tout\", out_dict)\n",
    "    filter_names = ['Muon_pt', ]\n",
    "    #file_handler = uproot.MultithreadedFileSource\n",
    "    #file = uproot.open(filename, file_handler=file_handler)\n",
    "    file = uproot.open(filename,)\n",
    "    tree = file['Events']\n",
    "    trigger_cut = \"HLT_IsoMu24 | HLT_Ele32_WPTight_Gsf\"\n",
    "    # get the sumW from the runs tree\n",
    "    for events in tree.iterate(\n",
    "            filter_name=filter_names, cut=trigger_cut,\n",
    "            entry_stop=10000):\n",
    "        # apply muon and electron cuts\n",
    "        tout_dict = {'Muon_pt': events['Muon_pt'],}\n",
    "        outfile['tout'].extend(tout_dict)"
   ]
  },
  {
   "cell_type": "code",
   "execution_count": 5,
   "metadata": {},
   "outputs": [
    {
     "ename": "NameError",
     "evalue": "name 'events' is not defined",
     "output_type": "error",
     "traceback": [
      "\u001b[0;31m---------------------------------------------------------------------------\u001b[0m",
      "\u001b[0;31mNameError\u001b[0m                                 Traceback (most recent call last)",
      "\u001b[1;32m/home/johan/CMS/TTbar/Python_Analysis/minimal.ipynb Cell 3\u001b[0m in \u001b[0;36m<cell line: 1>\u001b[0;34m()\u001b[0m\n\u001b[0;32m----> <a href='vscode-notebook-cell:/home/johan/CMS/TTbar/Python_Analysis/minimal.ipynb#W4sZmlsZQ%3D%3D?line=0'>1</a>\u001b[0m events[\u001b[39m'\u001b[39m\u001b[39mMuon_pt\u001b[39m\u001b[39m'\u001b[39m]\n",
      "\u001b[0;31mNameError\u001b[0m: name 'events' is not defined"
     ]
    }
   ],
   "source": [
    "\n",
    "outfile = uproot.recreate(\"test.root\")\n",
    "out_dict = {'Muon_pt': np.float64,}\n",
    "outfile.mktree(\"tout\", out_dict)\n",
    "filter_names = ['Muon_pt', ]\n",
    "#file_handler = uproot.MultithreadedFileSource\n",
    "#file = uproot.open(filename, file_handler=file_handler)\n",
    "file = uproot.open(\"./669F0F34-3DDA-DA4A-83EB-8CC741FDF3EF.root\",)\n",
    "tree = file['Events']\n",
    "trigger_cut = \"HLT_IsoMu24 | HLT_Ele32_WPTight_Gsf\"\n",
    "# get the sumW from the runs tree\n",
    "for events in tree.iterate(\n",
    "        filter_name=filter_names, cut=trigger_cut,\n",
    "        entry_stop=10000):\n",
    "    # apply muon and electron cuts\n",
    "    tout_dict = {'Muon_pt': events['Muon_pt'],}\n",
    "    outfile['tout'].extend(tout_dict)"
   ]
  },
  {
   "cell_type": "code",
   "execution_count": 4,
   "metadata": {},
   "outputs": [
    {
     "ename": "ValueError",
     "evalue": "'extend' was given data that do not correspond to any branch: 'nMuon_pt'",
     "output_type": "error",
     "traceback": [
      "\u001b[0;31m---------------------------------------------------------------------------\u001b[0m",
      "\u001b[0;31mValueError\u001b[0m                                Traceback (most recent call last)",
      "\u001b[1;32m/home/johan/CMS/TTbar/Python_Analysis/minimal.ipynb Cell 3\u001b[0m in \u001b[0;36m<cell line: 1>\u001b[0;34m()\u001b[0m\n\u001b[0;32m----> <a href='vscode-notebook-cell:/home/johan/CMS/TTbar/Python_Analysis/minimal.ipynb#W2sZmlsZQ%3D%3D?line=0'>1</a>\u001b[0m skimming(filename\u001b[39m=\u001b[39;49m\u001b[39m\"\u001b[39;49m\u001b[39m./669F0F34-3DDA-DA4A-83EB-8CC741FDF3EF.root\u001b[39;49m\u001b[39m\"\u001b[39;49m, ofilename\u001b[39m=\u001b[39;49m\u001b[39m'\u001b[39;49m\u001b[39mtest.root\u001b[39;49m\u001b[39m'\u001b[39;49m)\n",
      "\u001b[1;32m/home/johan/CMS/TTbar/Python_Analysis/minimal.ipynb Cell 3\u001b[0m in \u001b[0;36mskimming\u001b[0;34m(filename, ofilename, xs, lumi, mc_flag)\u001b[0m\n\u001b[1;32m     <a href='vscode-notebook-cell:/home/johan/CMS/TTbar/Python_Analysis/minimal.ipynb#W2sZmlsZQ%3D%3D?line=11'>12</a>\u001b[0m \u001b[39mfor\u001b[39;00m events \u001b[39min\u001b[39;00m tree\u001b[39m.\u001b[39miterate(\n\u001b[1;32m     <a href='vscode-notebook-cell:/home/johan/CMS/TTbar/Python_Analysis/minimal.ipynb#W2sZmlsZQ%3D%3D?line=12'>13</a>\u001b[0m         filter_name\u001b[39m=\u001b[39mfilter_names, cut\u001b[39m=\u001b[39mtrigger_cut,\n\u001b[1;32m     <a href='vscode-notebook-cell:/home/johan/CMS/TTbar/Python_Analysis/minimal.ipynb#W2sZmlsZQ%3D%3D?line=13'>14</a>\u001b[0m         entry_stop\u001b[39m=\u001b[39m\u001b[39m10000\u001b[39m):\n\u001b[1;32m     <a href='vscode-notebook-cell:/home/johan/CMS/TTbar/Python_Analysis/minimal.ipynb#W2sZmlsZQ%3D%3D?line=14'>15</a>\u001b[0m     \u001b[39m# apply muon and electron cuts\u001b[39;00m\n\u001b[1;32m     <a href='vscode-notebook-cell:/home/johan/CMS/TTbar/Python_Analysis/minimal.ipynb#W2sZmlsZQ%3D%3D?line=15'>16</a>\u001b[0m     tout_dict \u001b[39m=\u001b[39m {\u001b[39m'\u001b[39m\u001b[39mMuon_pt\u001b[39m\u001b[39m'\u001b[39m: events[\u001b[39m'\u001b[39m\u001b[39mMuon_pt\u001b[39m\u001b[39m'\u001b[39m],}\n\u001b[0;32m---> <a href='vscode-notebook-cell:/home/johan/CMS/TTbar/Python_Analysis/minimal.ipynb#W2sZmlsZQ%3D%3D?line=16'>17</a>\u001b[0m     outfile[\u001b[39m'\u001b[39;49m\u001b[39mtout\u001b[39;49m\u001b[39m'\u001b[39;49m]\u001b[39m.\u001b[39;49mextend(tout_dict)\n",
      "File \u001b[0;32m~/anaconda3/envs/shep/lib/python3.10/site-packages/uproot/writing/writable.py:1742\u001b[0m, in \u001b[0;36mWritableTree.extend\u001b[0;34m(self, data)\u001b[0m\n\u001b[1;32m   1715\u001b[0m \u001b[39mdef\u001b[39;00m \u001b[39mextend\u001b[39m(\u001b[39mself\u001b[39m, data):\n\u001b[1;32m   1716\u001b[0m     \u001b[39m\"\"\"\u001b[39;00m\n\u001b[1;32m   1717\u001b[0m \u001b[39m    Args:\u001b[39;00m\n\u001b[1;32m   1718\u001b[0m \u001b[39m        data (dict of str \\u2192 arrays): More array data to add to the TTree.\u001b[39;00m\n\u001b[0;32m   (...)\u001b[0m\n\u001b[1;32m   1740\u001b[0m \u001b[39m        **As a word of warning,** be sure that each call to :ref:`uproot.writing.writable.WritableTree.extend` includes at least 100 kB per branch/array. (NumPy and Awkward Arrays have an `nbytes <https://numpy.org/doc/stable/reference/generated/numpy.ndarray.nbytes.html>`__ property; you want at least ``100000`` per array.) If you ask Uproot to write very small TBaskets, it will spend more time working on TBasket overhead than actually writing data. The absolute worst case is one-entry-per-:ref:`uproot.writing.writable.WritableTree.extend`. See `#428 (comment) <https://github.com/scikit-hep/uproot4/pull/428#issuecomment-908703486>`__.\u001b[39;00m\n\u001b[1;32m   1741\u001b[0m \u001b[39m    \"\"\"\u001b[39;00m\n\u001b[0;32m-> 1742\u001b[0m     \u001b[39mself\u001b[39;49m\u001b[39m.\u001b[39;49m_cascading\u001b[39m.\u001b[39;49mextend(\u001b[39mself\u001b[39;49m\u001b[39m.\u001b[39;49m_file, \u001b[39mself\u001b[39;49m\u001b[39m.\u001b[39;49m_file\u001b[39m.\u001b[39;49msink, data)\n",
      "File \u001b[0;32m~/anaconda3/envs/shep/lib/python3.10/site-packages/uproot/writing/_cascadetree.py:658\u001b[0m, in \u001b[0;36mTree.extend\u001b[0;34m(self, file, sink, data)\u001b[0m\n\u001b[1;32m    651\u001b[0m             \u001b[39mraise\u001b[39;00m \u001b[39mValueError\u001b[39;00m(\n\u001b[1;32m    652\u001b[0m                 \u001b[39m\"\u001b[39m\u001b[39m'\u001b[39m\u001b[39mextend\u001b[39m\u001b[39m'\u001b[39m\u001b[39m must be given an array for every branch; missing \u001b[39m\u001b[39m{}\u001b[39;00m\u001b[39m\"\u001b[39m\u001b[39m.\u001b[39mformat(\n\u001b[1;32m    653\u001b[0m                     \u001b[39mrepr\u001b[39m(datum[\u001b[39m\"\u001b[39m\u001b[39mfName\u001b[39m\u001b[39m\"\u001b[39m])\n\u001b[1;32m    654\u001b[0m                 )\n\u001b[1;32m    655\u001b[0m             )\n\u001b[1;32m    657\u001b[0m \u001b[39mif\u001b[39;00m \u001b[39mlen\u001b[39m(provided) \u001b[39m!=\u001b[39m \u001b[39m0\u001b[39m:\n\u001b[0;32m--> 658\u001b[0m     \u001b[39mraise\u001b[39;00m \u001b[39mValueError\u001b[39;00m(\n\u001b[1;32m    659\u001b[0m         \u001b[39m\"\u001b[39m\u001b[39m'\u001b[39m\u001b[39mextend\u001b[39m\u001b[39m'\u001b[39m\u001b[39m was given data that do not correspond to any branch: \u001b[39m\u001b[39m{}\u001b[39;00m\u001b[39m\"\u001b[39m\u001b[39m.\u001b[39mformat(\n\u001b[1;32m    660\u001b[0m             \u001b[39m\"\u001b[39m\u001b[39m, \u001b[39m\u001b[39m\"\u001b[39m\u001b[39m.\u001b[39mjoin(\u001b[39mrepr\u001b[39m(x) \u001b[39mfor\u001b[39;00m x \u001b[39min\u001b[39;00m provided)\n\u001b[1;32m    661\u001b[0m         )\n\u001b[1;32m    662\u001b[0m     )\n\u001b[1;32m    664\u001b[0m tofill \u001b[39m=\u001b[39m []\n\u001b[1;32m    665\u001b[0m num_entries \u001b[39m=\u001b[39m \u001b[39mNone\u001b[39;00m\n",
      "\u001b[0;31mValueError\u001b[0m: 'extend' was given data that do not correspond to any branch: 'nMuon_pt'"
     ]
    }
   ],
   "source": [
    "skimming(filename=\"./669F0F34-3DDA-DA4A-83EB-8CC741FDF3EF.root\", ofilename='test.root')"
   ]
  },
  {
   "cell_type": "code",
   "execution_count": null,
   "metadata": {},
   "outputs": [],
   "source": []
  }
 ],
 "metadata": {
  "kernelspec": {
   "display_name": "Python 3.10.5 ('shep')",
   "language": "python",
   "name": "python3"
  },
  "language_info": {
   "codemirror_mode": {
    "name": "ipython",
    "version": 3
   },
   "file_extension": ".py",
   "mimetype": "text/x-python",
   "name": "python",
   "nbconvert_exporter": "python",
   "pygments_lexer": "ipython3",
   "version": "3.10.5"
  },
  "orig_nbformat": 4,
  "vscode": {
   "interpreter": {
    "hash": "303584f01def8d88bfb4951c86434878bb18af65d765a659218fdd4053050f80"
   }
  }
 },
 "nbformat": 4,
 "nbformat_minor": 2
}
