{
 "cells": [
  {
   "cell_type": "code",
   "execution_count": 45,
   "metadata": {},
   "outputs": [],
   "source": [
    "import matplotlib.pyplot as plt\n",
    "import numpy as np\n",
    "import hist\n",
    "from hist import Hist\n",
    "\n",
    "\n",
    "def get_hist():\n",
    "    h = (\n",
    "        Hist.new\n",
    "        .Reg(10, -2, 2, name='x', label='x-axis')\n",
    "        .Int64()\n",
    "    )\n",
    "    data = np.random.normal(size=10000)\n",
    "    h.fill(data)\n",
    "\n",
    "    return h\n"
   ]
  },
  {
   "cell_type": "code",
   "execution_count": null,
   "metadata": {},
   "outputs": [],
   "source": []
  }
 ],
 "metadata": {
  "kernelspec": {
   "display_name": "Python 3.10.5 ('shep')",
   "language": "python",
   "name": "python3"
  },
  "language_info": {
   "codemirror_mode": {
    "name": "ipython",
    "version": 3
   },
   "file_extension": ".py",
   "mimetype": "text/x-python",
   "name": "python",
   "nbconvert_exporter": "python",
   "pygments_lexer": "ipython3",
   "version": "3.10.6"
  },
  "orig_nbformat": 4,
  "vscode": {
   "interpreter": {
    "hash": "303584f01def8d88bfb4951c86434878bb18af65d765a659218fdd4053050f80"
   }
  }
 },
 "nbformat": 4,
 "nbformat_minor": 2
}
