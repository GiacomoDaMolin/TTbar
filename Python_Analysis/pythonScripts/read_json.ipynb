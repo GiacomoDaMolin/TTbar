{
 "cells": [
  {
   "cell_type": "code",
   "execution_count": 4,
   "metadata": {},
   "outputs": [
    {
     "data": {
      "text/plain": [
       "'88290'"
      ]
     },
     "execution_count": 4,
     "metadata": {},
     "output_type": "execute_result"
    }
   ],
   "source": [
    "import json\n",
    "\n",
    "f = open(\"samples.json\")\n",
    "samples = json.load(f)\n"
   ]
  },
  {
   "cell_type": "code",
   "execution_count": 5,
   "metadata": {},
   "outputs": [
    {
     "name": "stdout",
     "output_type": "stream",
     "text": [
      "TTLLorLTAUL\n",
      "TTSemileptonic\n",
      "TThad\n",
      "DY0\n",
      "DY1\n",
      "DY2\n",
      "DY3\n",
      "DY4\n",
      "W0j\n",
      "W1j\n",
      "W2j\n",
      "W3j\n",
      "W4j\n",
      "St\n",
      "Santit\n",
      "WW\n",
      "ZW\n",
      "ZZ\n"
     ]
    }
   ],
   "source": [
    "for sample in samples:\n",
    "    print(sample)"
   ]
  },
  {
   "cell_type": "code",
   "execution_count": 9,
   "metadata": {},
   "outputs": [],
   "source": [
    "with open(\"commands.txt\", 'w') as file:\n",
    "    for sample in samples:\n",
    "        print(f\"./create_jobscript.sh -f {sample}.txt -e /eos/user/j/jowulff/TTbar/PythonAnalysis/MixedAnalysis.py -d {samples[sample]['dataset']} -o /eos/user/j/jowulff/TTbar/PythonAnalysis/output/MC/{sample} -x {samples[sample]['xs']} -l 59.82\", file=file)"
   ]
  },
  {
   "cell_type": "code",
   "execution_count": null,
   "metadata": {},
   "outputs": [],
   "source": []
  }
 ],
 "metadata": {
  "kernelspec": {
   "display_name": "Python 3 (ipykernel)",
   "language": "python",
   "name": "python3"
  },
  "language_info": {
   "codemirror_mode": {
    "name": "ipython",
    "version": 3
   },
   "file_extension": ".py",
   "mimetype": "text/x-python",
   "name": "python",
   "nbconvert_exporter": "python",
   "pygments_lexer": "ipython3",
   "version": "3.10.6"
  },
  "vscode": {
   "interpreter": {
    "hash": "d40056169b8bd174f527ae71fdb1a07230a027bc2f58eaf1a71ad18b1030831c"
   }
  }
 },
 "nbformat": 4,
 "nbformat_minor": 2
}
